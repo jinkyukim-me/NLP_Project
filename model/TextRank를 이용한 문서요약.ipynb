{
 "cells": [
  {
   "cell_type": "code",
   "execution_count": 41,
   "metadata": {},
   "outputs": [
    {
     "name": "stdout",
     "output_type": "stream",
     "text": [
      "Requirement already satisfied: newspaper3k in c:\\users\\jungs\\anaconda3\\lib\\site-packages (0.2.8)\n",
      "Requirement already satisfied: tinysegmenter==0.3 in c:\\users\\jungs\\anaconda3\\lib\\site-packages (from newspaper3k) (0.3)\n",
      "Requirement already satisfied: nltk>=3.2.1 in c:\\users\\jungs\\anaconda3\\lib\\site-packages (from newspaper3k) (3.4.4)\n",
      "Requirement already satisfied: feedparser>=5.2.1 in c:\\users\\jungs\\anaconda3\\lib\\site-packages (from newspaper3k) (5.2.1)\n",
      "Requirement already satisfied: lxml>=3.6.0 in c:\\users\\jungs\\anaconda3\\lib\\site-packages (from newspaper3k) (4.3.4)\n",
      "Requirement already satisfied: tldextract>=2.0.1 in c:\\users\\jungs\\anaconda3\\lib\\site-packages (from newspaper3k) (2.2.1)\n",
      "Requirement already satisfied: requests>=2.10.0 in c:\\users\\jungs\\anaconda3\\lib\\site-packages (from newspaper3k) (2.22.0)\n",
      "Requirement already satisfied: feedfinder2>=0.0.4 in c:\\users\\jungs\\anaconda3\\lib\\site-packages (from newspaper3k) (0.0.4)\n",
      "Requirement already satisfied: jieba3k>=0.35.1 in c:\\users\\jungs\\anaconda3\\lib\\site-packages (from newspaper3k) (0.35.1)\n",
      "Requirement already satisfied: PyYAML>=3.11 in c:\\users\\jungs\\anaconda3\\lib\\site-packages (from newspaper3k) (5.1.1)\n",
      "Requirement already satisfied: Pillow>=3.3.0 in c:\\users\\jungs\\anaconda3\\lib\\site-packages (from newspaper3k) (6.1.0)\n",
      "Requirement already satisfied: python-dateutil>=2.5.3 in c:\\users\\jungs\\anaconda3\\lib\\site-packages (from newspaper3k) (2.8.0)\n",
      "Requirement already satisfied: cssselect>=0.9.2 in c:\\users\\jungs\\anaconda3\\lib\\site-packages (from newspaper3k) (1.1.0)\n",
      "Requirement already satisfied: beautifulsoup4>=4.4.1 in c:\\users\\jungs\\anaconda3\\lib\\site-packages (from newspaper3k) (4.7.1)\n",
      "Requirement already satisfied: six in c:\\users\\jungs\\anaconda3\\lib\\site-packages (from nltk>=3.2.1->newspaper3k) (1.12.0)\n",
      "Requirement already satisfied: requests-file>=1.4 in c:\\users\\jungs\\anaconda3\\lib\\site-packages (from tldextract>=2.0.1->newspaper3k) (1.4.3)\n",
      "Requirement already satisfied: setuptools in c:\\users\\jungs\\anaconda3\\lib\\site-packages (from tldextract>=2.0.1->newspaper3k) (41.0.1)\n",
      "Requirement already satisfied: idna in c:\\users\\jungs\\anaconda3\\lib\\site-packages (from tldextract>=2.0.1->newspaper3k) (2.8)\n",
      "Requirement already satisfied: certifi>=2017.4.17 in c:\\users\\jungs\\anaconda3\\lib\\site-packages (from requests>=2.10.0->newspaper3k) (2019.9.11)\n",
      "Requirement already satisfied: urllib3!=1.25.0,!=1.25.1,<1.26,>=1.21.1 in c:\\users\\jungs\\anaconda3\\lib\\site-packages (from requests>=2.10.0->newspaper3k) (1.24.2)\n",
      "Requirement already satisfied: chardet<3.1.0,>=3.0.2 in c:\\users\\jungs\\anaconda3\\lib\\site-packages (from requests>=2.10.0->newspaper3k) (3.0.4)\n",
      "Requirement already satisfied: soupsieve>=1.2 in c:\\users\\jungs\\anaconda3\\lib\\site-packages (from beautifulsoup4>=4.4.1->newspaper3k) (1.8)\n",
      "Note: you may need to restart the kernel to use updated packages.\n"
     ]
    }
   ],
   "source": [
    "pip install newspaper3k"
   ]
  },
  {
   "cell_type": "code",
   "execution_count": 42,
   "metadata": {},
   "outputs": [
    {
     "name": "stdout",
     "output_type": "stream",
     "text": [
      "Requirement already satisfied: jpype1 in c:\\users\\jungs\\anaconda3\\lib\\site-packages (0.7.0)\n",
      "Note: you may need to restart the kernel to use updated packages.\n"
     ]
    }
   ],
   "source": [
    "pip install jpype1"
   ]
  },
  {
   "cell_type": "code",
   "execution_count": 43,
   "metadata": {},
   "outputs": [
    {
     "name": "stdout",
     "output_type": "stream",
     "text": [
      "Requirement already satisfied: konlpy in c:\\users\\jungs\\anaconda3\\lib\\site-packages (0.5.1)\n",
      "Requirement already satisfied: JPype1>=0.5.7 in c:\\users\\jungs\\anaconda3\\lib\\site-packages (from konlpy) (0.7.0)\n",
      "Note: you may need to restart the kernel to use updated packages.\n"
     ]
    }
   ],
   "source": [
    "pip install konlpy"
   ]
  },
  {
   "cell_type": "code",
   "execution_count": 44,
   "metadata": {},
   "outputs": [
    {
     "name": "stdout",
     "output_type": "stream",
     "text": [
      "Requirement already satisfied: wordcloud in c:\\users\\jungs\\anaconda3\\lib\\site-packages (1.5.0)\n",
      "Requirement already satisfied: numpy>=1.6.1 in c:\\users\\jungs\\anaconda3\\lib\\site-packages (from wordcloud) (1.16.4)\n",
      "Requirement already satisfied: pillow in c:\\users\\jungs\\anaconda3\\lib\\site-packages (from wordcloud) (6.1.0)\n",
      "Note: you may need to restart the kernel to use updated packages.\n"
     ]
    }
   ],
   "source": [
    "pip install wordcloud"
   ]
  },
  {
   "cell_type": "code",
   "execution_count": 45,
   "metadata": {},
   "outputs": [
    {
     "name": "stdout",
     "output_type": "stream",
     "text": [
      "Requirement already satisfied: Pillow in c:\\users\\jungs\\anaconda3\\lib\\site-packages (6.1.0)\n",
      "Note: you may need to restart the kernel to use updated packages.\n"
     ]
    }
   ],
   "source": [
    "pip install Pillow"
   ]
  },
  {
   "cell_type": "code",
   "execution_count": 46,
   "metadata": {},
   "outputs": [
    {
     "name": "stdout",
     "output_type": "stream",
     "text": [
      "Requirement already satisfied: scikit-learn in c:\\users\\jungs\\anaconda3\\lib\\site-packages (0.21.2)\n",
      "Requirement already satisfied: numpy>=1.11.0 in c:\\users\\jungs\\anaconda3\\lib\\site-packages (from scikit-learn) (1.16.4)\n",
      "Requirement already satisfied: scipy>=0.17.0 in c:\\users\\jungs\\anaconda3\\lib\\site-packages (from scikit-learn) (1.2.1)\n",
      "Requirement already satisfied: joblib>=0.11 in c:\\users\\jungs\\anaconda3\\lib\\site-packages (from scikit-learn) (0.13.2)\n",
      "Note: you may need to restart the kernel to use updated packages.\n"
     ]
    }
   ],
   "source": [
    "pip install scikit-learn"
   ]
  },
  {
   "cell_type": "code",
   "execution_count": 58,
   "metadata": {},
   "outputs": [],
   "source": [
    "from newspaper import Article\n",
    "from konlpy.tag import Kkma\n",
    "from konlpy.tag import Okt\n",
    "from sklearn.feature_extraction.text import TfidfVectorizer\n",
    "from sklearn.feature_extraction.text import CountVectorizer\n",
    "from sklearn.preprocessing import normalize\n",
    "import numpy as np\n",
    "%matplotlib inline\n",
    "from collections import Counter\n",
    "import matplotlib.pyplot as plt\n",
    "from wordcloud import WordCloud"
   ]
  },
  {
   "cell_type": "code",
   "execution_count": 59,
   "metadata": {},
   "outputs": [],
   "source": [
    "class SentenceTokenizer(object):\n",
    "    def __init__(self):\n",
    "        self.kkma = Kkma()\n",
    "        self.Okt = Okt()\n",
    "        self.stopwords = ['중인' ,'만큼', '마찬가지', '꼬집었', \"연합뉴스\", \"데일리\", \"동아일보\", \"중앙일보\", \"조선일보\", \"기자\"\n",
    ",\"아\", \"휴\", \"아이구\", \"아이쿠\", \"아이고\", \"어\", \"나\", \"우리\", \"저희\", \"따라\", \"의해\", \"을\", \"를\", \"에\", \"의\", \"가\",]\n",
    "    def url2sentences(self, url):\n",
    "        article = Article(url, language='ko')\n",
    "        article.download()\n",
    "        article.parse()\n",
    "        sentences = self.kkma.sentences(article.text)\n",
    "        for idx in range(0, len(sentences)):\n",
    "            if len(sentences[idx]) <= 10:\n",
    "                sentences[idx-1] += (' ' + sentences[idx])\n",
    "                sentences[idx] = ''\n",
    "        return sentences\n",
    "    def text2sentences(self, text):\n",
    "        sentences = self.kkma.sentences(text)\n",
    "        for idx in range(0, len(sentences)):\n",
    "            if len(sentences[idx]) <= 10:\n",
    "                sentences[idx-1] += (' ' + sentences[idx])\n",
    "                sentences[idx] = ''\n",
    "        return sentences\n",
    "    def get_nouns(self, sentences):\n",
    "        nouns = []\n",
    "        for sentence in sentences:\n",
    "            if sentence is not '':\n",
    "                nouns.append(' '.join([nouns for nouns in self.Okt.nouns(str(sentence))\n",
    "                                       if nouns not in self.stopwords and len(nouns) > 1]))\n",
    "        return nouns\n",
    "        "
   ]
  },
  {
   "cell_type": "code",
   "execution_count": 60,
   "metadata": {},
   "outputs": [],
   "source": [
    "class GraphMatrix(object):\n",
    "    def __init__(self):\n",
    "        self.tfidf = TfidfVectorizer()\n",
    "        self.cnt_vec = CountVectorizer()\n",
    "        self.graph_sentence = []\n",
    "    def build_sent_graph(self, sentence):\n",
    "        tfidf_mat = self.tfidf.fit_transform(sentence).toarray()\n",
    "        self.graph_sentence = np.dot(tfidf_mat, tfidf_mat.T)\n",
    "        return self.graph_sentence\n",
    "    def build_words_graph(self, sentence):\n",
    "        cnt_vec_mat = normalize(self.cnt_vec.fit_transform(sentence).toarray().astype(float), axis=0)\n",
    "        vocab = self.cnt_vec.vocabulary_\n",
    "        return np.dot(cnt_vec_mat.T, cnt_vec_mat), {vocab[word] : word for word in vocab}"
   ]
  },
  {
   "cell_type": "code",
   "execution_count": 61,
   "metadata": {},
   "outputs": [],
   "source": [
    "class Rank(object):\n",
    "    def get_ranks(self, graph, d=0.85): # d = damping factor\n",
    "        A = graph\n",
    "        matrix_size = A.shape[0]\n",
    "        for id in range(matrix_size):\n",
    "            A[id, id] = 0 # diagonal 부분을 0으로\n",
    "            link_sum = np.sum(A[:,id]) # A[:, id] = A[:][id]\n",
    "            if link_sum != 0:\n",
    "                A[:, id] /= link_sum\n",
    "            A[:, id] *= -d\n",
    "            A[id, id] = 1\n",
    "        B = (1-d) * np.ones((matrix_size, 1))\n",
    "        ranks = np.linalg.solve(A, B) # 연립방정식 Ax = b\n",
    "        return {idx: r[0] for idx, r in enumerate(ranks)}"
   ]
  },
  {
   "cell_type": "code",
   "execution_count": 62,
   "metadata": {},
   "outputs": [],
   "source": [
    "class TextRank(object):\n",
    "    def __init__(self, text):\n",
    "        self.sent_tokenize = SentenceTokenizer()\n",
    "        if text[:5] in ('http:', 'https'):\n",
    "            self.sentences = self.sent_tokenize.url2sentences(text)\n",
    "        else:\n",
    "            self.sentences = self.sent_tokenize.text2sentences(text)\n",
    "        self.nouns = self.sent_tokenize.get_nouns(self.sentences)\n",
    "        self.graph_matrix = GraphMatrix()\n",
    "        self.sent_graph = self.graph_matrix.build_sent_graph(self.nouns)\n",
    "        self.words_graph, self.idx2word = self.graph_matrix.build_words_graph(self.nouns)\n",
    "        self.rank = Rank()\n",
    "        self.sent_rank_idx = self.rank.get_ranks(self.sent_graph)\n",
    "        self.sorted_sent_rank_idx = sorted(self.sent_rank_idx, key=lambda k: self.sent_rank_idx[k], reverse=True)\n",
    "        self.word_rank_idx = self.rank.get_ranks(self.words_graph)\n",
    "        self.sorted_word_rank_idx = sorted(self.word_rank_idx, key=lambda k: self.word_rank_idx[k], reverse=True)\n",
    "    def summarize(self, sent_num=1):\n",
    "        summary = []\n",
    "        index=[]\n",
    "        for idx in self.sorted_sent_rank_idx[:sent_num]:\n",
    "            index.append(idx)\n",
    "        index.sort()\n",
    "        for idx in index:\n",
    "            summary.append(self.sentences[idx])\n",
    "        return summary\n",
    "    def keywords(self, word_num=5):\n",
    "        rank = Rank()\n",
    "        rank_idx = rank.get_ranks(self.words_graph)\n",
    "        sorted_rank_idx = sorted(rank_idx, key=lambda k: rank_idx[k], reverse=True)\n",
    "        keywords = []\n",
    "        index=[]\n",
    "        for idx in sorted_rank_idx[:word_num]:\n",
    "            index.append(idx)\n",
    "        #index.sort()\n",
    "        for idx in index:\n",
    "            keywords.append(self.idx2word[idx])\n",
    "        return keywords"
   ]
  },
  {
   "cell_type": "code",
   "execution_count": 63,
   "metadata": {},
   "outputs": [],
   "source": [
    "from PIL import Image\n",
    "def draw_wordcloud(url): \n",
    "        news_text =''\n",
    "        article = Article(url, language='ko')\n",
    "        article.download()\n",
    "        article.parse()\n",
    "        article.text\n",
    "        news_text = article.text\n",
    "    \n",
    "        engine = Okt() \n",
    "        nouns1 = engine.nouns(news_text)\n",
    "        nouns1 = [n for n in nouns1 if len(n) > 1]\n",
    "\n",
    "        # Counter: 단어수 세기, 가장 많이 등장한 단어(명사) 40개\n",
    "        count = Counter(nouns1)\n",
    "        tags = count.most_common(100)\n",
    "        \n",
    "        # 워드 클라우드 배경 사진\n",
    "        book_mask = np.array(Image.open('1.png'))\n",
    "\n",
    "        # WordCloud, matplotlib: 단어 구름 그리기\n",
    "        font_path = 'E:\\TextRank\\KBLZ.ttf'\n",
    "        wc = WordCloud(font_path=font_path, background_color='white', width=800, height=600, mask=book_mask)\n",
    "        cloud = wc.generate_from_frequencies(dict(tags))\n",
    "        plt.figure(figsize=(10,8))\n",
    "        plt.axis('off')\n",
    "        plt.imshow(cloud)"
   ]
  },
  {
   "cell_type": "code",
   "execution_count": 64,
   "metadata": {},
   "outputs": [
    {
     "name": "stderr",
     "output_type": "stream",
     "text": [
      "C:\\Users\\jungs\\Anaconda3\\lib\\site-packages\\jpype\\_core.py:210: UserWarning: \n",
      "-------------------------------------------------------------------------------\n",
      "Deprecated: convertStrings was not specified when starting the JVM. The default\n",
      "behavior in JPype will be False starting in JPype 0.8. The recommended setting\n",
      "for new code is convertStrings=False.  The legacy value of True was assumed for\n",
      "this session. If you are a user of an application that reported this warning,\n",
      "please file a ticket with the developer.\n",
      "-------------------------------------------------------------------------------\n",
      "\n",
      "  \"\"\")\n"
     ]
    },
    {
     "name": "stdout",
     "output_type": "stream",
     "text": [
      "이에 앞서 구는 지난 4 월 카 이스트 소프트웨어교육센터와 '4 차 산업혁명시대, 서초 미래 인재 양성을 위한 업무 협약' 을 맺고 6월부터 '4 차 산업 서초 청년 취업 스쿨' 을 진행하고 있다.\n",
      "\n",
      "keywords : ['청년', '진행', '취업', '이스트', '산업']\n"
     ]
    },
    {
     "data": {
      "image/png": "[encoded data removed]",
      "text/plain": [
       "<Figure size 720x576 with 1 Axes>"
      ]
     },
     "metadata": {
      "needs_background": "light"
     },
     "output_type": "display_data"
    }
   ],
   "source": [
    "url = 'http://news1.kr/articles/?3710776'\n",
    "textrank = TextRank(url)\n",
    "for row in textrank.summarize(1):\n",
    "    print(row)\n",
    "    print()\n",
    "print('keywords :',textrank.keywords())\n",
    "draw_wordcloud(url)"
   ]
  },
  {
   "cell_type": "code",
   "execution_count": 65,
   "metadata": {},
   "outputs": [],
   "source": [
    "import krwordrank\n",
    "\n",
    "fname = 'E:\\\\TextRank\\\\daily.txt'\n",
    "\n",
    "def get_texts_scores(fname):\n",
    "    with open(fname, encoding='utf-8') as f:\n",
    "        docs = [doc.replace('\\n','').split('\\n') for doc in f]\n",
    "        if not docs:\n",
    "            return []\n",
    "        \n",
    "        texts = docs\n",
    "        return list(texts)\n",
    "texts = get_texts_scores(fname)"
   ]
  },
  {
   "cell_type": "code",
   "execution_count": 66,
   "metadata": {},
   "outputs": [
    {
     "name": "stdout",
     "output_type": "stream",
     "text": [
      "['사랑해,처음 본 그 순간부터 사랑했고 너가 다른 남자와 행복하게 연애를 하는 순간에도 사랑했어.'\n",
      " ' 나는 너의 친한 친구이고 대학에서 만난 사람 중 가장 가까운 사람 중 하나다.'\n",
      " '널 사랑하지만 더 이상 다가가진 않을 것이다. 지금의 나는 너를 감당할 수 없기 때문이다.'\n",
      " '나는 잘 알고 있다, 예쁘고 착하고 다재다능한 너를 좋아하는 사람들이 얼마나 많은지.' '넌 뭘 먹고 자랐는지 그렇게 예쁠까.'\n",
      " '잘하는건 또 왜 그렇게 많은지.'\n",
      " '너의 글, 그림, 목소리, 생각, 말투, 춤, 흥얼거리는 노래, 작은 투정들, 시시콜콜한 얘기들, 작은 손, 동그란 얼굴, 취미, 꿈, 습관들... 그 모든 것을 사랑한다.'\n",
      " '너는 다정하다, 너는 상냥하고 따뜻하다.' '사랑스럽다.' '사랑스럽고 사랑스럽다.' '너를 마다할 남자가 있을까? 없다.'\n",
      " '너의 옆에는 항상 누군가 있었다.' '헤어졌다해도 바로 새로 생기는것을 보면 넌 정말로 모두에게 사랑스러운 사람인가보다.'\n",
      " '너의 주변만 봐도 알 수 있다.' '너가 얼마나 사랑받는 사람인지, 얼마나 많은 사람들이 너의 사랑을 받고싶어하는지.'\n",
      " '나도 그렇다.' '너의 사랑을 갖고싶다.'\n",
      " '눈을 뜨면 가장 먼저 보일 얼굴이 너의 그 예쁜 얼굴이었으면 좋겠고 잠들기전 마지막으로 볼 얼굴도 그 얼굴이었으면 좋겠다.'\n",
      " '너는 사랑스럽기도 하지만 가끔은 까칠하다.' '갑자기 날을 세우고 제멋대로 군다.' '바람같다.'\n",
      " '따뜻하게 보듬어주다가도 순식간에 태풍으로 변해 나를 숨막히게 한다.' '너는 네 자신이 변덕스럽다고 말한다.'\n",
      " '나는 그것마저 사랑한다.' '너의 따뜻함도 차가움도 모두 사랑한다.' '너의 밝음과 어두움, 그 모든 것을 사랑한다.'\n",
      " '애초에 너는 나의 삶을 파괴하고 들어왔었다.' '넌 나의 파괴적인 사랑이다.'\n",
      " '너의 섬세하고 거친 모습들, 한없이 사랑스럽다가도 한없이 차가워지는 모습들, 뭐 하나 놓치고 싶지 않다. 너의 존재 그 자체를 사랑해.'\n",
      " '그래서 나는 기다린다. 내가 너의 마지막 사랑이 될 그날을.'\n",
      " '언젠가 네가 모든 연애를 마치고 멈춰설 그 곳, 그곳에 있을 사람이 되고싶다.'\n",
      " '너의 마지막이 되고싶다, 너의 끝사랑이 되고싶다.' '너는 나의 첫사랑이자 끝사랑이 되고 나는 너의 끝사랑이 되고싶다.'\n",
      " '너는 내 마음만 훔쳐간 것이 아니다.'\n",
      " '내 미래도 훔쳐갔다. 너를 알게된 이후, 나는 너와 함께하는 미래만을 꿈꿀 수 있는 사람이 되었다.'\n",
      " '너를 위해, 어쩌면 올지도 모르는 너를 위해 나는 멋진 사람이 될 것이다, 너를 위해 사회적으로 안정적인 사람이 될 것이고 재정적으로도 안정적이고 싶다.'\n",
      " '네가 지친 마음을 끌어안고 언제든지 와서 머무를 수 있게 준비된 사람이고 싶다.' '너의 마지막이 되고싶다.'\n",
      " '너는 안 올수도 있지만 나는 혹시나 하는 마음에 준비를 한다.' '나는 너를 기다릴 것이다.'\n",
      " '너가 오지 않아도 너는 계속해서 나의 사랑스러운 사람으로 남을 것이다.' '기다릴 것이다.'\n",
      " '새내기때부터 지금까지, 몇 년동안 그래왔듯이.'\n",
      " '처음 너를 봤을 때 심장이 멈춘 그 순간, 너만 생각하면 뛰던 마음, 군대에서 깊은 밤 너를 생각하며 버틴 그 날들, 복학한 뒤 더 빛나던 너, 힘들다고 울면서 나에게 기대던 그 순간, 벚꽃이 떨어지던 자하연 앞에서 웃던 너.'\n",
      " '나를 지금까지 버티게해준 너와 나의 모든 순간들.' '이 벅찬 마음을 고백하는 날, 너가 환하게 웃어주길.']\n"
     ]
    }
   ],
   "source": [
    "texts = np.squeeze(texts)\n",
    "print(texts)"
   ]
  },
  {
   "cell_type": "markdown",
   "metadata": {},
   "source": [
    "# from krwordrank.word import KRWordRank\n",
    "\n",
    "wordrank_extractor = KRWordRank(\n",
    "    min_count = 2, # 단어의 최소 출현 빈도수 (그래프 생성 시)\n",
    "    max_length = 10, # 단어의 최대 길이\n",
    "    verbose = True\n",
    "    )\n",
    "\n",
    "beta = 0.85    # PageRank의 decaying factor beta\n",
    "max_iter = 10\n",
    "verbose = True\n",
    "\n",
    "keywords, rank, graph = wordrank_extractor.extract(texts, beta, max_iter, verbose)"
   ]
  },
  {
   "cell_type": "code",
   "execution_count": 67,
   "metadata": {},
   "outputs": [],
   "source": [
    "from krwordrank.sentence import summarize_with_sentences\n",
    "text = texts # 라라랜드 영화평\n",
    "keywords, sents = summarize_with_sentences(text, num_keywords=10, num_keysents=1)"
   ]
  },
  {
   "cell_type": "code",
   "execution_count": 68,
   "metadata": {},
   "outputs": [
    {
     "name": "stdout",
     "output_type": "stream",
     "text": [
      "['너는 나의 첫사랑이자 끝사랑이 되고 나는 너의 끝사랑이 되고싶다.']\n"
     ]
    }
   ],
   "source": [
    "print(sents)"
   ]
  },
  {
   "cell_type": "code",
   "execution_count": null,
   "metadata": {},
   "outputs": [],
   "source": []
  }
 ],
 "metadata": {
  "kernelspec": {
   "display_name": "Python 3",
   "language": "python",
   "name": "python3"
  },
  "language_info": {
   "codemirror_mode": {
    "name": "ipython",
    "version": 3
   },
   "file_extension": ".py",
   "mimetype": "text/x-python",
   "name": "python",
   "nbconvert_exporter": "python",
   "pygments_lexer": "ipython3",
   "version": "3.7.3"
  }
 },
 "nbformat": 4,
 "nbformat_minor": 2
}
