{
 "cells": [
  {
   "cell_type": "code",
   "execution_count": 1,
   "metadata": {},
   "outputs": [],
   "source": [
    "import numpy as np\n",
    "import matplotlib.pyplot as plt\n",
    "from collections import Counter\n",
    "from konlpy.tag import Okt\n",
    "from wordcloud import WordCloud\n",
    "from PIL import Image"
   ]
  },
  {
   "cell_type": "code",
   "execution_count": 2,
   "metadata": {},
   "outputs": [],
   "source": [
    "def wordcloud(data_path,book_mask_path,font_path):\n",
    "        f = open(data_path, 'r',encoding='UTF8')\n",
    "        data = f.read()\n",
    "        \n",
    "        engine = Okt() \n",
    "        nouns1 = engine.nouns(data)\n",
    "        nouns1 = [n for n in nouns1 if len(n) > 1]\n",
    "\n",
    "        # Counter: 단어수 세기, 가장 많이 등장한 단어(명사) 40개\n",
    "        count = Counter(nouns1)\n",
    "        tags = count.most_common(100)\n",
    "        \n",
    "        # 워드 클라우드 배경 사진\n",
    "        book_mask = np.array(Image.open(book_mask_path))\n",
    "\n",
    "        # WordCloud, matplotlib: 단어 구름 그리기\n",
    "        font_path = font_path\n",
    "        wc = WordCloud(font_path=font_path, background_color='white', width=800, height=600, mask=book_mask)\n",
    "        cloud = wc.generate_from_frequencies(dict(tags))\n",
    "        plt.figure(figsize=(10,8))\n",
    "        plt.axis('off')\n",
    "        plt.imshow(cloud)"
   ]
  }
 ],
 "metadata": {
  "kernelspec": {
   "display_name": "Python 3",
   "language": "python",
   "name": "python3"
  },
  "language_info": {
   "codemirror_mode": {
    "name": "ipython",
    "version": 3
   },
   "file_extension": ".py",
   "mimetype": "text/x-python",
   "name": "python",
   "nbconvert_exporter": "python",
   "pygments_lexer": "ipython3",
   "version": "3.6.9"
  }
 },
 "nbformat": 4,
 "nbformat_minor": 2
}
