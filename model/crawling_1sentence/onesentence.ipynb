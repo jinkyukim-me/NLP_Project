{
 "cells": [
  {
   "cell_type": "code",
   "execution_count": 1,
   "metadata": {
    "ExecuteTime": {
     "end_time": "2019-10-29T03:02:25.341315Z",
     "start_time": "2019-10-29T03:02:09.790916Z"
    }
   },
   "outputs": [
    {
     "name": "stderr",
     "output_type": "stream",
     "text": [
      "Using TensorFlow backend.\n"
     ]
    },
    {
     "name": "stdout",
     "output_type": "stream",
     "text": [
      "WARNING:tensorflow:From C:\\Users\\go2th\\Miniconda3\\envs\\tensorflow\\lib\\site-packages\\tensorflow\\python\\util\\deprecation.py:497: calling conv1d (from tensorflow.python.ops.nn_ops) with data_format=NHWC is deprecated and will be removed in a future version.\n",
      "Instructions for updating:\n",
      "`NHWC` for data_format is deprecated, use `NWC` instead\n"
     ]
    }
   ],
   "source": [
    "from text import gettext,summarytext,wordcloud"
   ]
  },
  {
   "cell_type": "code",
   "execution_count": 2,
   "metadata": {
    "ExecuteTime": {
     "end_time": "2019-10-28T17:01:18.094589Z",
     "start_time": "2019-10-28T17:01:18.089612Z"
    }
   },
   "outputs": [],
   "source": [
    "book_mask_path = './1.png'\n",
    "font_path = './font/KBLZ.ttf'"
   ]
  },
  {
   "cell_type": "code",
   "execution_count": 2,
   "metadata": {
    "ExecuteTime": {
     "end_time": "2019-10-29T03:04:27.089439Z",
     "start_time": "2019-10-29T03:02:40.199993Z"
    },
    "scrolled": false
   },
   "outputs": [
    {
     "name": "stdout",
     "output_type": "stream",
     "text": [
      "실제로 내가 취업이라는 결 승점을 봤을 때 그 끝은 거의 지평선 끝에 있었으니\n",
      "['내가', '할머니']\n",
      "10\n",
      "딩동 딩동민경이는 약간 놀란 표정으로 나를 반겼고 나는 그 상태로 내 여자를 꼭 끌어안았다\n",
      "['내가', '나는', '민경이', '아니', '우리', '사랑', '그래', '여자', '전화', '생각']\n",
      "11\n",
      "그 안에 냉장고라는 마음이 있고 그 안에는 감정이라는 반찬들이 있다\n",
      "['반찬', '냉장고']\n",
      "12\n",
      "서로의 잘잘못을 떠나 이렇게 다시 합의의 장이 열렸다는 것에 많은 생각을 했을 것이니깐\n",
      "['소희는', '민하는', '합의', '집에', '하지', '서로', '것이', '이렇게', '사람', '근데']\n",
      "13\n",
      "두 번째 내가 정말 죽었다면 그냥 잠시 추억할 수 있는 사람으로 기억해주세요\n",
      "['제가', '근데', '정말', '네가', '내가', '이렇게', '그냥', '유서', '자신', '인생']\n",
      "14\n",
      "그러니 너의 마음을 잘 알아주는 사람을 만나면 그것이 바로 최고의 연애상이다\n",
      "['온도', '연애', '거야', '100도', '사람', '마음', '감정']\n",
      "15\n",
      "하나 그 감정들 중 행복한 것은 없는 것일까? 그 감정을 밖으로 꺼낼 수 없는 것일까?\n",
      "['감정', '나는', '믹서기', '매일', '있는', '하지만', '없는', '행복', '것일까?', '내가']\n",
      "16\n",
      "\"\"다름이 아니고 너 지호 봤다고 했잖아 그거 진짜 확실한 거 맞지?응, 응\n",
      "['그래', '남자', '내가', '여자', '진짜', '새끼', '거야', '아니', '확실', '\"\"']\n",
      "17\n",
      "비록 그의 모습이 달라도 그녀에겐 사랑이라는 따뜻한 온기는 여전했다\n",
      "['그녀', '그의', '그는', '모습', '하지', '있는', '당신', '시간', '그리', '사랑']\n",
      "18\n",
      "즉, 외로움을 팔면 앞으로 이 남자에겐 사랑이라는 감정 또한 없어지게 된다\n",
      "['감정', '남자', '그의', '외로', '주인', '나무', '거래', '\"주인', '그렇']\n",
      "19\n",
      "그는 진정 외로움을 버린 것일까?막연한 생각을 가지고 집으로 향했다\n",
      "['그녀', '그는', '감정', '보고', '그의', '것이다', '자신', '다시', '생각', '외로움을']\n",
      "20\n",
      "하지만 얽매인 사람은 결코 좋은 사람이 아니라는 거예요\n",
      "['사랑', '사람', '아니', '거예요', '하지만', '좋은', '해요', '있어요', '그런', '먼저']\n",
      "21\n",
      "그럼 나는 지금 눈을 감 고 뭐하고 있는 걸까? 맞다\n",
      "['한다', '어느', '나는', '생각', '아니', '있는', '글을', '사랑', '먼지', '사람']\n",
      "22\n",
      "그리고 부모님의 품에 안겨 있는 기타를 보고는 놀라 소리를 지르는 세준이었다\n",
      "['세준', '착한', '기타를', '그리고', '부모님', '\"네', '일을', '친구', '엄마', '일이']\n",
      "23\n",
      "줄곧 상처 없이 지낸 내가 지금은 거울을 보며 그곳에 연고를 바르며 미간을 찌 푸리고 있다\n",
      "['상처', '수정은', '내가', '사람', '이렇게', '네가', '사랑', '자신', '물집', '시간']\n",
      "24\n",
      "이런 얘기들이 내게 힘을 줄까? 내 마음을 이해할 수 있는 사람은 아무도 없다\n",
      "['당신', '다시', '것이', '내가', '이렇게', '있는', '마음', '생각', '누군가', '존재']\n",
      "25\n",
      "\"인연이면 우린 다시 만나겠죠 혜주 씨인 연 사거리p\n",
      "['그녀', '정말', '사람', '보면', '있다', '다시', '어떻게', '인연', '\"\"', '사거리']\n",
      "26\n",
      "다시 여름이 왔어 소녀야바다에 유리 조각이 뿌려졌다\n",
      "['다시', '여름', '바람', '네가', '바다', '소녀', '거야', '그리', '생각']\n",
      "27\n",
      "자기 야 나, 커튼 좀 쳐줄래?\" 나는 문득 생각났다\n",
      "['나는', '커튼', '그녀']\n",
      "28\n",
      "아무튼 다시 자기를 받아 주지 않는다면 무슨 짓이라도 할 것 같은 남자의 태도였다\n",
      "['혜란은', '남자', '사진', '전화', '같은', '하고', '있다', '다시', '무슨', '하지']\n",
      "29\n"
     ]
    }
   ],
   "source": [
    "for i in range(10,30):\n",
    "    data_path = './'+str(i)+'_@math9772.txt'\n",
    "    gettext.get_texts(data_path)\n",
    "    texts = gettext.get_texts(data_path)\n",
    "    summarytext.summary_text(texts)\n",
    "    print(i)"
   ]
  },
  {
   "cell_type": "code",
   "execution_count": 3,
   "metadata": {
    "ExecuteTime": {
     "end_time": "2019-10-29T03:05:02.667329Z",
     "start_time": "2019-10-29T03:05:02.535712Z"
    }
   },
   "outputs": [
    {
     "ename": "NameError",
     "evalue": "name 'book_mask_path' is not defined",
     "output_type": "error",
     "traceback": [
      "\u001b[1;31m---------------------------------------------------------------------------\u001b[0m",
      "\u001b[1;31mNameError\u001b[0m                                 Traceback (most recent call last)",
      "\u001b[1;32m<ipython-input-3-2fd15b203dc2>\u001b[0m in \u001b[0;36m<module>\u001b[1;34m\u001b[0m\n\u001b[1;32m----> 1\u001b[1;33m \u001b[0mwordcloud\u001b[0m\u001b[1;33m.\u001b[0m\u001b[0mwordcloud\u001b[0m\u001b[1;33m(\u001b[0m\u001b[0mdata_path\u001b[0m\u001b[1;33m,\u001b[0m\u001b[0mbook_mask_path\u001b[0m\u001b[1;33m,\u001b[0m\u001b[0mfont_path\u001b[0m\u001b[1;33m)\u001b[0m\u001b[1;33m\u001b[0m\u001b[1;33m\u001b[0m\u001b[0m\n\u001b[0m",
      "\u001b[1;31mNameError\u001b[0m: name 'book_mask_path' is not defined"
     ]
    }
   ],
   "source": [
    "wordcloud.wordcloud(data_path, book_mask_path, font_path)"
   ]
  },
  {
   "cell_type": "code",
   "execution_count": null,
   "metadata": {},
   "outputs": [],
   "source": []
  }
 ],
 "metadata": {
  "hide_input": false,
  "kernelspec": {
   "display_name": "Python 3",
   "language": "python",
   "name": "python3"
  },
  "language_info": {
   "codemirror_mode": {
    "name": "ipython",
    "version": 3
   },
   "file_extension": ".py",
   "mimetype": "text/x-python",
   "name": "python",
   "nbconvert_exporter": "python",
   "pygments_lexer": "ipython3",
   "version": "3.6.9"
  },
  "toc": {
   "base_numbering": 1,
   "nav_menu": {},
   "number_sections": true,
   "sideBar": true,
   "skip_h1_title": false,
   "title_cell": "Table of Contents",
   "title_sidebar": "Contents",
   "toc_cell": false,
   "toc_position": {},
   "toc_section_display": true,
   "toc_window_display": false
  },
  "varInspector": {
   "cols": {
    "lenName": 16,
    "lenType": 16,
    "lenVar": 40
   },
   "kernels_config": {
    "python": {
     "delete_cmd_postfix": "",
     "delete_cmd_prefix": "del ",
     "library": "var_list.py",
     "varRefreshCmd": "print(var_dic_list())"
    },
    "r": {
     "delete_cmd_postfix": ") ",
     "delete_cmd_prefix": "rm(",
     "library": "var_list.r",
     "varRefreshCmd": "cat(var_dic_list()) "
    }
   },
   "types_to_exclude": [
    "module",
    "function",
    "builtin_function_or_method",
    "instance",
    "_Feature"
   ],
   "window_display": false
  }
 },
 "nbformat": 4,
 "nbformat_minor": 2
}
