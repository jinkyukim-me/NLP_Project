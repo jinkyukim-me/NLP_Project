{
 "cells": [
  {
   "cell_type": "code",
   "execution_count": 5,
   "metadata": {},
   "outputs": [],
   "source": [
    "from pykospacing import spacing"
   ]
  },
  {
   "cell_type": "code",
   "execution_count": 6,
   "metadata": {},
   "outputs": [],
   "source": [
    "import warnings\n",
    "warnings.filterwarnings(\"ignore\")"
   ]
  },
  {
   "cell_type": "code",
   "execution_count": 7,
   "metadata": {},
   "outputs": [],
   "source": [
    "def get_texts(data_path):\n",
    "    file = open(data_path, 'r',encoding='UTF-8')\n",
    "    data =file.readlines()\n",
    "    data_list = []\n",
    "    for sentence in data:\n",
    "        list_sentence = sentence.replace('\\n','').split('.')\n",
    "        for lines in list_sentence:\n",
    "            line = spacing(lines)\n",
    "            data_list.append(line)\n",
    "    texts = list(set(data_list))\n",
    "    if '' in texts:\n",
    "        texts.remove('')\n",
    "    return texts"
   ]
  }
 ],
 "metadata": {
  "kernelspec": {
   "display_name": "Python 3",
   "language": "python",
   "name": "python3"
  },
  "language_info": {
   "codemirror_mode": {
    "name": "ipython",
    "version": 3
   },
   "file_extension": ".py",
   "mimetype": "text/x-python",
   "name": "python",
   "nbconvert_exporter": "python",
   "pygments_lexer": "ipython3",
   "version": "3.6.9"
  }
 },
 "nbformat": 4,
 "nbformat_minor": 2
}
