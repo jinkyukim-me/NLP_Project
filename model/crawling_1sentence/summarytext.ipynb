{
 "cells": [
  {
   "cell_type": "code",
   "execution_count": 1,
   "metadata": {},
   "outputs": [],
   "source": [
    "import krwordrank\n",
    "from krwordrank.sentence import summarize_with_sentences"
   ]
  },
  {
   "cell_type": "code",
   "execution_count": 2,
   "metadata": {},
   "outputs": [],
   "source": [
    "def summary_text(texts):\n",
    "    texts = texts\n",
    "    penalty = lambda x:0 if (25 <= len(x) <= 50) else 1\n",
    "    stopwords = {'은', '는', '이', '가', '오늘'}\n",
    "    keywords, sents = summarize_with_sentences(\n",
    "        texts,\n",
    "        penalty=penalty,\n",
    "        stopwords = stopwords,\n",
    "        diversity=0.7,\n",
    "        num_keywords=10,\n",
    "        num_keysents=1,\n",
    "        scaling=lambda x:1,\n",
    "        verbose=False,\n",
    "    )\n",
    "    keyword = []\n",
    "    \n",
    "    for sent in sents:\n",
    "        print(sent)\n",
    "    for i in keywords:\n",
    "        keyword.append(i)\n",
    "    return print(keyword)"
   ]
  }
 ],
 "metadata": {
  "kernelspec": {
   "display_name": "Python 3",
   "language": "python",
   "name": "python3"
  },
  "language_info": {
   "codemirror_mode": {
    "name": "ipython",
    "version": 3
   },
   "file_extension": ".py",
   "mimetype": "text/x-python",
   "name": "python",
   "nbconvert_exporter": "python",
   "pygments_lexer": "ipython3",
   "version": "3.6.9"
  }
 },
 "nbformat": 4,
 "nbformat_minor": 2
}
