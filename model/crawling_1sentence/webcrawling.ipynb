{
 "cells": [
  {
   "cell_type": "code",
   "execution_count": 1,
   "metadata": {},
   "outputs": [
    {
     "name": "stdout",
     "output_type": "stream",
     "text": [
      "'NoneType' object has no attribute 'text'\n"
     ]
    }
   ],
   "source": [
    "from selenium import webdriver\n",
    "driver = webdriver.Chrome('./driver/chromedriver.exe')\n",
    "driver.set_window_size(1200, 800)\n",
    "driver.implicitly_wait(3)\n",
    "try:\n",
    "    for j in range (10,300):\n",
    "        line = 'https://brunch.co.kr/@lepremiercopy/'+str(j)\n",
    "        driver.get(line)\n",
    "        contents = driver.find_element_by_xpath('/html/body/div[3]/div[1]/div[2]/div[1]').text\n",
    "        if not contents:\n",
    "            continue\n",
    "        contents = contents.replace('\\n', '')\n",
    "\n",
    "        a = str(j) +'_@math9772'+'.txt'\n",
    "        f2 = open(a, 'a+', encoding='utf-8', newline='')\n",
    "        f2.write(contents)\n",
    "        #print(j+':'+a)\n",
    "except Exception as e:\n",
    "    print(e)\n",
    "#f.close()"
   ]
  },
  {
   "cell_type": "code",
   "execution_count": null,
   "metadata": {},
   "outputs": [],
   "source": []
  }
 ],
 "metadata": {
  "kernelspec": {
   "display_name": "Python 3",
   "language": "python",
   "name": "python3"
  },
  "language_info": {
   "codemirror_mode": {
    "name": "ipython",
    "version": 3
   },
   "file_extension": ".py",
   "mimetype": "text/x-python",
   "name": "python",
   "nbconvert_exporter": "python",
   "pygments_lexer": "ipython3",
   "version": "3.6.9"
  }
 },
 "nbformat": 4,
 "nbformat_minor": 2
}
