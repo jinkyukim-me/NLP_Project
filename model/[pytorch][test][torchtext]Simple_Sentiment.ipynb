{
  "nbformat": 4,
  "nbformat_minor": 0,
  "metadata": {
    "colab": {
      "name": "Simple Sentiment.ipynb",
      "provenance": [],
      "collapsed_sections": [],
      "include_colab_link": true
    },
    "kernelspec": {
      "name": "python3",
      "display_name": "Python 3"
    },
    "accelerator": "GPU"
  },
  "cells": [
    {
      "cell_type": "markdown",
      "metadata": {
        "id": "view-in-github",
        "colab_type": "text"
      },
      "source": [
        "<a href=\"https://colab.research.google.com/github/jinkyukim-me/RNN_Tutorial_Master/blob/master/Simple_Sentiment.ipynb\" target=\"_parent\"><img src=\"https://colab.research.google.com/assets/colab-badge.svg\" alt=\"Open In Colab\"/></a>"
      ]
    },
    {
      "cell_type": "markdown",
      "metadata": {
        "id": "I1GEQaBpXYLw",
        "colab_type": "text"
      },
      "source": [
        "\n",
        "## Preparing Data"
      ]
    },
    {
      "cell_type": "code",
      "metadata": {
        "id": "hpk7hpVsVgkm",
        "colab_type": "code",
        "colab": {}
      },
      "source": [
        "import torch\n",
        "from torchtext import data"
      ],
      "execution_count": 0,
      "outputs": []
    },
    {
      "cell_type": "markdown",
      "metadata": {
        "id": "uUFpVlPwXVPE",
        "colab_type": "text"
      },
      "source": [
        "* Set the random seeds for reproducibility"
      ]
    },
    {
      "cell_type": "code",
      "metadata": {
        "id": "4E1zoCDuVjer",
        "colab_type": "code",
        "colab": {}
      },
      "source": [
        "SEED = 1234\n",
        "\n",
        "torch.manual_seed(SEED)\n",
        "torch.backends.cudnn.deterministic = True"
      ],
      "execution_count": 0,
      "outputs": []
    },
    {
      "cell_type": "markdown",
      "metadata": {
        "id": "4WRv_rMlXqWT",
        "colab_type": "text"
      },
      "source": [
        "* TEXT field to define how the review should be processed, and the LABEL field to process the sentiment"
      ]
    },
    {
      "cell_type": "code",
      "metadata": {
        "id": "5ouRS4TLVx7z",
        "colab_type": "code",
        "colab": {}
      },
      "source": [
        "TEXT = data.Field(tokenize = 'spacy')\n",
        "LABEL = data.LabelField(dtype = torch.float)"
      ],
      "execution_count": 0,
      "outputs": []
    },
    {
      "cell_type": "markdown",
      "metadata": {
        "id": "1ivOdW30Xpig",
        "colab_type": "text"
      },
      "source": [
        "* Load the IMDb dataset.\n",
        "* Splits it into the canonical train/test splits as torchtext.datasets objects.<br>\n",
        "* The IMDb dataset consists of 50,000 movie reviews, each marked as being a positive or negative review."
      ]
    },
    {
      "cell_type": "code",
      "metadata": {
        "id": "gEZSx4FEV5IC",
        "colab_type": "code",
        "outputId": "2338875f-8c8e-45a6-fa1d-b7323d5c2237",
        "colab": {
          "base_uri": "https://localhost:8080/",
          "height": 52
        }
      },
      "source": [
        "from torchtext import datasets\n",
        "\n",
        "train_data, test_data = datasets.IMDB.splits(TEXT, LABEL)"
      ],
      "execution_count": 0,
      "outputs": [
        {
          "output_type": "stream",
          "text": [
            "downloading aclImdb_v1.tar.gz\n"
          ],
          "name": "stdout"
        },
        {
          "output_type": "stream",
          "text": [
            "aclImdb_v1.tar.gz: 100%|██████████| 84.1M/84.1M [00:07<00:00, 11.6MB/s]\n"
          ],
          "name": "stderr"
        }
      ]
    },
    {
      "cell_type": "markdown",
      "metadata": {
        "id": "uRdg2vWPYsNV",
        "colab_type": "text"
      },
      "source": [
        "* See how many examples are in each split by checking their length."
      ]
    },
    {
      "cell_type": "code",
      "metadata": {
        "id": "NIVwh_OwV0Cc",
        "colab_type": "code",
        "outputId": "63558696-a517-4bb1-b048-9f1d6030e738",
        "colab": {
          "base_uri": "https://localhost:8080/",
          "height": 52
        }
      },
      "source": [
        "print(f'Number of training examples: {len(train_data)}')\n",
        "print(f'Number of testing examples: {len(test_data)}')"
      ],
      "execution_count": 0,
      "outputs": [
        {
          "output_type": "stream",
          "text": [
            "Number of training examples: 25000\n",
            "Number of testing examples: 25000\n"
          ],
          "name": "stdout"
        }
      ]
    },
    {
      "cell_type": "markdown",
      "metadata": {
        "id": "-qolkZ8EYxfJ",
        "colab_type": "text"
      },
      "source": [
        "* Check an example."
      ]
    },
    {
      "cell_type": "code",
      "metadata": {
        "id": "GW7DD0D_V1Mr",
        "colab_type": "code",
        "outputId": "6bbd3c05-033d-4c2b-a7f7-06eb657f3c34",
        "colab": {
          "base_uri": "https://localhost:8080/",
          "height": 55
        }
      },
      "source": [
        "print(vars(train_data.examples[0]))"
      ],
      "execution_count": 0,
      "outputs": [
        {
          "output_type": "stream",
          "text": [
            "{'text': ['Soapdish', 'may', 'go', 'down', 'as', 'one', 'of', 'the', 'single', 'most', 'under', '-', 'rated', 'movies', 'ever', 'made.<br', '/><br', '/>A', 'stellar', ',', 'unselfish', 'cast', 'who', 'understood', 'exactly', 'where', 'the', 'movie', 'was', 'going', 'and', 'the', 'roles', 'they', 'played', 'in', 'it', '.', 'While', 'everyone', 'hammed', 'it', 'up', ',', 'there', 'was', 'no', 'one', '-', 'upmanship', '.', 'Kline', 'showed', 'wit', 'and', 'great', 'physical', 'comedy', ',', 'Goldberg', 'and', 'Downey', 'knew', 'how', 'to', 'carry', 'on', 'a', 'funny', 'conversation', 'while', 'someone', 'else', 'was', 'talking', ',', 'I', 'could', 'just', 'go', 'on.<br', '/><br', '/>Do', 'not', 'pass', 'this', 'movie', 'by', '!'], 'label': 'pos'}\n"
          ],
          "name": "stdout"
        }
      ]
    },
    {
      "cell_type": "markdown",
      "metadata": {
        "id": "t9MdKJDqY9O0",
        "colab_type": "text"
      },
      "source": [
        "* Create the validation set from our training set."
      ]
    },
    {
      "cell_type": "code",
      "metadata": {
        "id": "ihoAuOX9WGBM",
        "colab_type": "code",
        "colab": {}
      },
      "source": [
        "import random\n",
        "\n",
        "train_data, valid_data = train_data.split(random_state = random.seed(SEED))"
      ],
      "execution_count": 0,
      "outputs": []
    },
    {
      "cell_type": "markdown",
      "metadata": {
        "id": "1zK5p2q8ZICD",
        "colab_type": "text"
      },
      "source": [
        "* View how many examples are in each split."
      ]
    },
    {
      "cell_type": "code",
      "metadata": {
        "id": "BSQL15OuWF_A",
        "colab_type": "code",
        "outputId": "0311e08c-5d5b-4510-f7e8-b93cddb35455",
        "colab": {
          "base_uri": "https://localhost:8080/",
          "height": 69
        }
      },
      "source": [
        "print(f'Number of training examples: {len(train_data)}')\n",
        "print(f'Number of validation examples: {len(valid_data)}')\n",
        "print(f'Number of testing examples: {len(test_data)}')"
      ],
      "execution_count": 0,
      "outputs": [
        {
          "output_type": "stream",
          "text": [
            "Number of training examples: 17500\n",
            "Number of validation examples: 7500\n",
            "Number of testing examples: 25000\n"
          ],
          "name": "stdout"
        }
      ]
    },
    {
      "cell_type": "markdown",
      "metadata": {
        "id": "r36QldV1ZU8G",
        "colab_type": "text"
      },
      "source": [
        "* Build the vocabulary on the training set"
      ]
    },
    {
      "cell_type": "code",
      "metadata": {
        "id": "0MiCuXE1WF8N",
        "colab_type": "code",
        "colab": {}
      },
      "source": [
        "MAX_VOCAB_SIZE = 25_000\n",
        "\n",
        "TEXT.build_vocab(train_data, max_size = MAX_VOCAB_SIZE)\n",
        "LABEL.build_vocab(train_data)"
      ],
      "execution_count": 0,
      "outputs": []
    },
    {
      "cell_type": "markdown",
      "metadata": {
        "id": "_yNf32fca5Xy",
        "colab_type": "text"
      },
      "source": [
        "* Why is the vocab size 25002 and not 25000? \n",
        "* One of the addition tokens is the <unk> token and the other is a <pad> token. <br>\n",
        "\n"
      ]
    },
    {
      "cell_type": "code",
      "metadata": {
        "id": "0O015oCUWF5-",
        "colab_type": "code",
        "outputId": "87606742-9045-446e-d763-f708e357c31d",
        "colab": {
          "base_uri": "https://localhost:8080/",
          "height": 52
        }
      },
      "source": [
        "print(f\"Unique tokens in TEXT vocabulary: {len(TEXT.vocab)}\")\n",
        "print(f\"Unique tokens in LABEL vocabulary: {len(LABEL.vocab)}\")"
      ],
      "execution_count": 0,
      "outputs": [
        {
          "output_type": "stream",
          "text": [
            "Unique tokens in TEXT vocabulary: 25002\n",
            "Unique tokens in LABEL vocabulary: 2\n"
          ],
          "name": "stdout"
        }
      ]
    },
    {
      "cell_type": "markdown",
      "metadata": {
        "id": "IjV459VfbBoq",
        "colab_type": "text"
      },
      "source": [
        "* View the most common words in the vocabulary and their frequencies."
      ]
    },
    {
      "cell_type": "code",
      "metadata": {
        "id": "f3Rs47TKWF1_",
        "colab_type": "code",
        "outputId": "78622e4d-adac-468e-eb75-b323b0dad742",
        "colab": {
          "base_uri": "https://localhost:8080/",
          "height": 55
        }
      },
      "source": [
        "print(TEXT.vocab.freqs.most_common(20))"
      ],
      "execution_count": 0,
      "outputs": [
        {
          "output_type": "stream",
          "text": [
            "[('the', 203459), (',', 192975), ('.', 164951), ('and', 109566), ('a', 109524), ('of', 100784), ('to', 93643), ('is', 76277), ('in', 61706), ('I', 54550), ('it', 53702), ('that', 49563), ('\"', 44324), (\"'s\", 43067), ('this', 42411), ('-', 37120), ('/><br', 35602), ('was', 35107), ('as', 30575), ('with', 29913)]\n"
          ],
          "name": "stdout"
        }
      ]
    },
    {
      "cell_type": "markdown",
      "metadata": {
        "id": "WAHsjXaibQm8",
        "colab_type": "text"
      },
      "source": [
        "* See the vocabulary directly using either the stoi (string to int) or itos (int to string) method."
      ]
    },
    {
      "cell_type": "code",
      "metadata": {
        "id": "7w5wXrFQWFzj",
        "colab_type": "code",
        "outputId": "25688ad1-6eb9-453c-b777-55f0c7edcb41",
        "colab": {
          "base_uri": "https://localhost:8080/",
          "height": 35
        }
      },
      "source": [
        "print(TEXT.vocab.itos[:10])"
      ],
      "execution_count": 0,
      "outputs": [
        {
          "output_type": "stream",
          "text": [
            "['<unk>', '<pad>', 'the', ',', '.', 'and', 'a', 'of', 'to', 'is']\n"
          ],
          "name": "stdout"
        }
      ]
    },
    {
      "cell_type": "markdown",
      "metadata": {
        "id": "ix2bwqyybXpn",
        "colab_type": "text"
      },
      "source": [
        "* Check the labels, ensuring 0 is for negative and 1 is for positive."
      ]
    },
    {
      "cell_type": "code",
      "metadata": {
        "id": "vEHSrkA1WFxh",
        "colab_type": "code",
        "outputId": "0e20def8-3d63-40c3-e99b-a565714b0106",
        "colab": {
          "base_uri": "https://localhost:8080/",
          "height": 35
        }
      },
      "source": [
        "print(LABEL.vocab.stoi)"
      ],
      "execution_count": 0,
      "outputs": [
        {
          "output_type": "stream",
          "text": [
            "defaultdict(<function _default_unk_index at 0x7f21237b16a8>, {'neg': 0, 'pos': 1})\n"
          ],
          "name": "stdout"
        }
      ]
    },
    {
      "cell_type": "markdown",
      "metadata": {
        "id": "GKheNtVlbhQz",
        "colab_type": "text"
      },
      "source": [
        "* Preparing the data is creating the iterators"
      ]
    },
    {
      "cell_type": "code",
      "metadata": {
        "id": "4enjqML3WFu9",
        "colab_type": "code",
        "colab": {}
      },
      "source": [
        "BATCH_SIZE = 64\n",
        "\n",
        "device = torch.device('cuda' if torch.cuda.is_available() else 'cpu')\n",
        "\n",
        "train_iterator, valid_iterator, test_iterator = data.BucketIterator.splits(\n",
        "    (train_data, valid_data, test_data), \n",
        "    batch_size = BATCH_SIZE,\n",
        "    device = device)"
      ],
      "execution_count": 0,
      "outputs": []
    },
    {
      "cell_type": "markdown",
      "metadata": {
        "id": "noHnBA6CdrXo",
        "colab_type": "text"
      },
      "source": [
        "## Build the Model\n",
        "\n",
        "* Building the model that we'll eventually train and evaluate.\n"
      ]
    },
    {
      "cell_type": "code",
      "metadata": {
        "id": "ajgGEeWKWFsh",
        "colab_type": "code",
        "colab": {}
      },
      "source": [
        "import torch.nn as nn\n",
        "\n",
        "class RNN(nn.Module):\n",
        "    def __init__(self, input_dim, embedding_dim, hidden_dim, output_dim):\n",
        "        \n",
        "        super().__init__()\n",
        "        \n",
        "        self.embedding = nn.Embedding(input_dim, embedding_dim)\n",
        "        \n",
        "        self.rnn = nn.RNN(embedding_dim, hidden_dim)\n",
        "        \n",
        "        self.fc = nn.Linear(hidden_dim, output_dim)\n",
        "        \n",
        "    def forward(self, text):\n",
        "\n",
        "        #text = [sent len, batch size]\n",
        "        \n",
        "        embedded = self.embedding(text)\n",
        "        \n",
        "        #embedded = [sent len, batch size, emb dim]\n",
        "        \n",
        "        output, hidden = self.rnn(embedded)\n",
        "        \n",
        "        #output = [sent len, batch size, hid dim]\n",
        "        #hidden = [1, batch size, hid dim]\n",
        "        \n",
        "        assert torch.equal(output[-1,:,:], hidden.squeeze(0))\n",
        "        \n",
        "        return self.fc(hidden.squeeze(0))"
      ],
      "execution_count": 0,
      "outputs": []
    },
    {
      "cell_type": "markdown",
      "metadata": {
        "id": "XX_NdgJeeE2a",
        "colab_type": "text"
      },
      "source": [
        "* Create an instance of our RNN class.\n",
        "\n",
        "* The input dimension is the dimension of the one-hot vectors, which is equal to the vocabulary size.\n",
        "\n",
        "* The embedding dimension is the size of the dense word vectors.\n",
        "* The hidden dimension is the size of the hidden states.\n",
        "\n",
        "* The output dimension is usually the number of classes"
      ]
    },
    {
      "cell_type": "code",
      "metadata": {
        "id": "kIK4zUYtWFqK",
        "colab_type": "code",
        "colab": {}
      },
      "source": [
        "INPUT_DIM = len(TEXT.vocab)\n",
        "EMBEDDING_DIM = 100\n",
        "HIDDEN_DIM = 256\n",
        "OUTPUT_DIM = 1\n",
        "\n",
        "model = RNN(INPUT_DIM, EMBEDDING_DIM, HIDDEN_DIM, OUTPUT_DIM)"
      ],
      "execution_count": 0,
      "outputs": []
    },
    {
      "cell_type": "markdown",
      "metadata": {
        "id": "cQkABT8JePSo",
        "colab_type": "text"
      },
      "source": [
        "* Create a function that will tell us how many trainable parameters our model has so we can compare the number of parameters across different models."
      ]
    },
    {
      "cell_type": "code",
      "metadata": {
        "id": "dxGkLVq-WFUf",
        "colab_type": "code",
        "outputId": "f7403f0c-0292-4f4b-9fb3-b7a5e785f48f",
        "colab": {
          "base_uri": "https://localhost:8080/",
          "height": 35
        }
      },
      "source": [
        "def count_parameters(model):\n",
        "    return sum(p.numel() for p in model.parameters() if p.requires_grad)\n",
        "\n",
        "print(f'The model has {count_parameters(model):,} trainable parameters')"
      ],
      "execution_count": 0,
      "outputs": [
        {
          "output_type": "stream",
          "text": [
            "The model has 2,592,105 trainable parameters\n"
          ],
          "name": "stdout"
        }
      ]
    },
    {
      "cell_type": "markdown",
      "metadata": {
        "id": "Ggbo87oPeaNZ",
        "colab_type": "text"
      },
      "source": [
        "##Train the Model\n",
        "* Set up the training and then train the model\n",
        "\n",
        "* Create an optimizer\n",
        "* Use stochastic gradient descent (SGD)\n",
        "* Learning rate"
      ]
    },
    {
      "cell_type": "code",
      "metadata": {
        "id": "h_jqhXicWWr0",
        "colab_type": "code",
        "colab": {}
      },
      "source": [
        "import torch.optim as optim\n",
        "\n",
        "optimizer = optim.SGD(model.parameters(), lr=1e-3)"
      ],
      "execution_count": 0,
      "outputs": []
    },
    {
      "cell_type": "markdown",
      "metadata": {
        "id": "nLshkCc2fK6X",
        "colab_type": "text"
      },
      "source": [
        "* Define our loss function. \n",
        "* In PyTorch this is commonly called a criterion.\n",
        "\n",
        "* The loss function here is binary cross entropy with logits.\n",
        "\n",
        "* The BCEWithLogitsLoss criterion carries out both the sigmoid and the binary cross entropy steps."
      ]
    },
    {
      "cell_type": "code",
      "metadata": {
        "id": "ErpDTfi-WWpU",
        "colab_type": "code",
        "colab": {}
      },
      "source": [
        "criterion = nn.BCEWithLogitsLoss()"
      ],
      "execution_count": 0,
      "outputs": []
    },
    {
      "cell_type": "markdown",
      "metadata": {
        "id": "1ZANgZ3lfPUr",
        "colab_type": "text"
      },
      "source": [
        "* Place the model and the criterion on the GPU (if we have one)."
      ]
    },
    {
      "cell_type": "code",
      "metadata": {
        "id": "98SVsXopWWmf",
        "colab_type": "code",
        "colab": {}
      },
      "source": [
        "model = model.to(device)\n",
        "criterion = criterion.to(device)"
      ],
      "execution_count": 0,
      "outputs": []
    },
    {
      "cell_type": "markdown",
      "metadata": {
        "id": "ntDjm19sh0iS",
        "colab_type": "text"
      },
      "source": [
        "* Criterion function calculates the loss \n",
        "\n",
        "* This rounds any value greater than 0.5 to 1 (a positive sentiment) and the rest to 0 (a negative sentiment).\n"
      ]
    },
    {
      "cell_type": "code",
      "metadata": {
        "id": "9n0jioOFWWj6",
        "colab_type": "code",
        "colab": {}
      },
      "source": [
        "def binary_accuracy(preds, y):\n",
        "    \"\"\"\n",
        "    Returns accuracy per batch, i.e. if you get 8/10 right, this returns 0.8, NOT 8\n",
        "    \"\"\"\n",
        "\n",
        "    #round predictions to the closest integer\n",
        "    rounded_preds = torch.round(torch.sigmoid(preds))\n",
        "    correct = (rounded_preds == y).float() #convert into float for division \n",
        "    acc = correct.sum() / len(correct)\n",
        "    return acc"
      ],
      "execution_count": 0,
      "outputs": []
    },
    {
      "cell_type": "markdown",
      "metadata": {
        "id": "6GhPabGqidHN",
        "colab_type": "text"
      },
      "source": [
        "* The `train` function iterates over all examples, one batch at a time.\n"
      ]
    },
    {
      "cell_type": "code",
      "metadata": {
        "id": "kI6NpcXYWdPK",
        "colab_type": "code",
        "colab": {}
      },
      "source": [
        "def train(model, iterator, optimizer, criterion):\n",
        "    \n",
        "    epoch_loss = 0\n",
        "    epoch_acc = 0\n",
        "    \n",
        "    model.train()\n",
        "    \n",
        "    for batch in iterator:\n",
        "        \n",
        "        optimizer.zero_grad()\n",
        "                \n",
        "        predictions = model(batch.text).squeeze(1)\n",
        "        \n",
        "        loss = criterion(predictions, batch.label)\n",
        "        \n",
        "        acc = binary_accuracy(predictions, batch.label)\n",
        "        \n",
        "        loss.backward()\n",
        "        \n",
        "        optimizer.step()\n",
        "        \n",
        "        epoch_loss += loss.item()\n",
        "        epoch_acc += acc.item()\n",
        "        \n",
        "    return epoch_loss / len(iterator), epoch_acc / len(iterator)"
      ],
      "execution_count": 0,
      "outputs": []
    },
    {
      "cell_type": "markdown",
      "metadata": {
        "id": "o6vFdiPRjeOX",
        "colab_type": "text"
      },
      "source": [
        "* `evaluate` is similar to `train`, with a few modifications as you don't want to update the parameters when evaluating."
      ]
    },
    {
      "cell_type": "code",
      "metadata": {
        "id": "hU6MhPDWWdM-",
        "colab_type": "code",
        "colab": {}
      },
      "source": [
        "def evaluate(model, iterator, criterion):\n",
        "    \n",
        "    epoch_loss = 0\n",
        "    epoch_acc = 0\n",
        "    \n",
        "    model.eval()\n",
        "    \n",
        "    with torch.no_grad():\n",
        "    \n",
        "        for batch in iterator:\n",
        "\n",
        "            predictions = model(batch.text).squeeze(1)\n",
        "            \n",
        "            loss = criterion(predictions, batch.label)\n",
        "            \n",
        "            acc = binary_accuracy(predictions, batch.label)\n",
        "\n",
        "            epoch_loss += loss.item()\n",
        "            epoch_acc += acc.item()\n",
        "        \n",
        "    return epoch_loss / len(iterator), epoch_acc / len(iterator)"
      ],
      "execution_count": 0,
      "outputs": []
    },
    {
      "cell_type": "markdown",
      "metadata": {
        "id": "dK7moDkHj-Wv",
        "colab_type": "text"
      },
      "source": [
        "* Create a function to tell us how long an epoch takes to compare training times between models."
      ]
    },
    {
      "cell_type": "code",
      "metadata": {
        "id": "03VIflcnWdKl",
        "colab_type": "code",
        "colab": {}
      },
      "source": [
        "import time\n",
        "\n",
        "def epoch_time(start_time, end_time):\n",
        "    elapsed_time = end_time - start_time\n",
        "    elapsed_mins = int(elapsed_time / 60)\n",
        "    elapsed_secs = int(elapsed_time - (elapsed_mins * 60))\n",
        "    return elapsed_mins, elapsed_secs"
      ],
      "execution_count": 0,
      "outputs": []
    },
    {
      "cell_type": "markdown",
      "metadata": {
        "id": "gRm7OBX-kIWY",
        "colab_type": "text"
      },
      "source": [
        "* Train the model through multiple epochs, an epoch being a complete pass through all examples in the training and validation sets."
      ]
    },
    {
      "cell_type": "code",
      "metadata": {
        "id": "23l4pElcWdIr",
        "colab_type": "code",
        "outputId": "67e3c5dc-3f4a-405a-c9b2-d35edcc05987",
        "colab": {
          "base_uri": "https://localhost:8080/",
          "height": 276
        }
      },
      "source": [
        "N_EPOCHS = 5\n",
        "\n",
        "best_valid_loss = float('inf')\n",
        "\n",
        "for epoch in range(N_EPOCHS):\n",
        "\n",
        "    start_time = time.time()\n",
        "    \n",
        "    train_loss, train_acc = train(model, train_iterator, optimizer, criterion)\n",
        "    valid_loss, valid_acc = evaluate(model, valid_iterator, criterion)\n",
        "    \n",
        "    end_time = time.time()\n",
        "\n",
        "    epoch_mins, epoch_secs = epoch_time(start_time, end_time)\n",
        "    \n",
        "    if valid_loss < best_valid_loss:\n",
        "        best_valid_loss = valid_loss\n",
        "        torch.save(model.state_dict(), 'tut1-model.pt')\n",
        "    \n",
        "    print(f'Epoch: {epoch+1:02} | Epoch Time: {epoch_mins}m {epoch_secs}s')\n",
        "    print(f'\\tTrain Loss: {train_loss:.3f} | Train Acc: {train_acc*100:.2f}%')\n",
        "    print(f'\\t Val. Loss: {valid_loss:.3f} |  Val. Acc: {valid_acc*100:.2f}%')"
      ],
      "execution_count": 0,
      "outputs": [
        {
          "output_type": "stream",
          "text": [
            "Epoch: 01 | Epoch Time: 1m 6s\n",
            "\tTrain Loss: 0.694 | Train Acc: 50.17%\n",
            "\t Val. Loss: 0.697 |  Val. Acc: 50.59%\n",
            "Epoch: 02 | Epoch Time: 1m 6s\n",
            "\tTrain Loss: 0.693 | Train Acc: 49.92%\n",
            "\t Val. Loss: 0.697 |  Val. Acc: 50.90%\n",
            "Epoch: 03 | Epoch Time: 1m 6s\n",
            "\tTrain Loss: 0.693 | Train Acc: 49.85%\n",
            "\t Val. Loss: 0.697 |  Val. Acc: 51.05%\n",
            "Epoch: 04 | Epoch Time: 1m 5s\n",
            "\tTrain Loss: 0.693 | Train Acc: 49.92%\n",
            "\t Val. Loss: 0.697 |  Val. Acc: 49.85%\n",
            "Epoch: 05 | Epoch Time: 1m 6s\n",
            "\tTrain Loss: 0.693 | Train Acc: 49.95%\n",
            "\t Val. Loss: 0.697 |  Val. Acc: 51.15%\n"
          ],
          "name": "stdout"
        }
      ]
    },
    {
      "cell_type": "markdown",
      "metadata": {
        "id": "kd0-Fpf9kWC3",
        "colab_type": "text"
      },
      "source": [
        "* The loss is not really decreasing and the accuracy is poor"
      ]
    },
    {
      "cell_type": "code",
      "metadata": {
        "id": "56gxCtv_WdF9",
        "colab_type": "code",
        "outputId": "2622a983-24d6-4d87-bf50-ec4dc7083836",
        "colab": {
          "base_uri": "https://localhost:8080/",
          "height": 35
        }
      },
      "source": [
        "model.load_state_dict(torch.load('tut1-model.pt'))\n",
        "\n",
        "test_loss, test_acc = evaluate(model, test_iterator, criterion)\n",
        "\n",
        "print(f'Test Loss: {test_loss:.3f} | Test Acc: {test_acc*100:.2f}%')"
      ],
      "execution_count": 0,
      "outputs": [
        {
          "output_type": "stream",
          "text": [
            "Test Loss: 0.712 | Test Acc: 46.08%\n"
          ],
          "name": "stdout"
        }
      ]
    }
  ]
}