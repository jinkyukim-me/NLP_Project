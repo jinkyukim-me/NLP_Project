{
 "cells": [
  {
   "cell_type": "code",
   "execution_count": 1,
   "metadata": {
    "ExecuteTime": {
     "end_time": "2019-11-07T03:03:11.273452Z",
     "start_time": "2019-11-07T03:03:04.619158Z"
    }
   },
   "outputs": [
    {
     "name": "stderr",
     "output_type": "stream",
     "text": [
      "Using TensorFlow backend.\n"
     ]
    }
   ],
   "source": [
    "import numpy as np\n",
    "from keras.models import Sequential\n",
    "from keras.layers import Dense, LSTM, Dropout\n",
    "from sklearn.preprocessing import MinMaxScaler\n",
    "import matplotlib.pyplot as plt\n",
    "%matplotlib inline"
   ]
  },
  {
   "cell_type": "code",
   "execution_count": 2,
   "metadata": {
    "ExecuteTime": {
     "end_time": "2019-11-07T03:03:11.282284Z",
     "start_time": "2019-11-07T03:03:11.276299Z"
    }
   },
   "outputs": [],
   "source": [
    "import random\n",
    "random.seed(100)\n",
    "emoData_365 = []\n",
    "for i in range(365):\n",
    "    y = (5/365)*i + random.random()\n",
    "    emoData_365.append(y)\n",
    "emoData_365 = np.array(emoData_365)[:,None]\n",
    "# print(bioData_365)\n",
    "# print(len(bioData_365))"
   ]
  },
  {
   "cell_type": "code",
   "execution_count": 3,
   "metadata": {
    "ExecuteTime": {
     "end_time": "2019-11-07T03:03:11.294252Z",
     "start_time": "2019-11-07T03:03:11.285276Z"
    },
    "scrolled": false
   },
   "outputs": [],
   "source": [
    "from sklearn.preprocessing import MinMaxScaler\n",
    "scaler = MinMaxScaler(feature_range=(1, 5))\n",
    "emoData_365 = scaler.fit_transform(emoData_365)\n",
    "#print(bioData_365)"
   ]
  },
  {
   "cell_type": "code",
   "execution_count": 4,
   "metadata": {
    "ExecuteTime": {
     "end_time": "2019-11-07T03:03:11.306238Z",
     "start_time": "2019-11-07T03:03:11.297246Z"
    }
   },
   "outputs": [],
   "source": [
    "look_back = 40\n",
    "train_marker = int(0.6*len(emoData_365))\n",
    "val_marker = int(0.8*len(emoData_365))"
   ]
  },
  {
   "cell_type": "code",
   "execution_count": 5,
   "metadata": {
    "ExecuteTime": {
     "end_time": "2019-11-07T03:03:11.509691Z",
     "start_time": "2019-11-07T03:03:11.308214Z"
    }
   },
   "outputs": [
    {
     "data": {
      "image/png": "[encoded data removed]",
      "text/plain": [
       "<Figure size 432x288 with 1 Axes>"
      ]
     },
     "metadata": {
      "needs_background": "light"
     },
     "output_type": "display_data"
    }
   ],
   "source": [
    "%matplotlib inline\n",
    "import matplotlib.pyplot as plt\n",
    "\n",
    "plt.clf()\n",
    "plt.title(\"Emotion Graphs in 365 days\")\n",
    "plt.xlabel(\"Date\")\n",
    "plt.ylabel(\"Emotion\")\n",
    "plot_x = np.arange(365)\n",
    "plot_y = emoData_365\n",
    "plt.plot(plot_x, plot_y, color=\"red\", label=\"True\")\n",
    "plt.legend(loc='best')\n",
    "plt.show()"
   ]
  },
  {
   "cell_type": "code",
   "execution_count": 6,
   "metadata": {
    "ExecuteTime": {
     "end_time": "2019-11-07T03:03:11.518650Z",
     "start_time": "2019-11-07T03:03:11.512667Z"
    }
   },
   "outputs": [],
   "source": [
    "def create_dataset(signal_data, look_back=1):\n",
    "    dataX, dataY = [], []\n",
    "    for i in range(len(signal_data)-look_back):\n",
    "        dataX.append(signal_data[i:(i+look_back), 0])\n",
    "        dataY.append(signal_data[i + look_back, 0])\n",
    "    return np.array(dataX), np.array(dataY)"
   ]
  },
  {
   "cell_type": "code",
   "execution_count": 7,
   "metadata": {
    "ExecuteTime": {
     "end_time": "2019-11-07T03:03:11.534609Z",
     "start_time": "2019-11-07T03:03:11.521678Z"
    }
   },
   "outputs": [],
   "source": [
    "train = emoData_365[:train_marker]\n",
    "val = emoData_365[train_marker:val_marker]\n",
    "test = emoData_365[val_marker:]\n",
    "\n",
    "x_train, y_train = create_dataset(train, look_back)\n",
    "x_val, y_val = create_dataset(val, look_back)\n",
    "x_test, y_test = create_dataset(test, look_back)"
   ]
  },
  {
   "cell_type": "code",
   "execution_count": 8,
   "metadata": {
    "ExecuteTime": {
     "end_time": "2019-11-07T03:03:11.546577Z",
     "start_time": "2019-11-07T03:03:11.539616Z"
    }
   },
   "outputs": [],
   "source": [
    "x_train = np.reshape(x_train, (x_train.shape[0], x_train.shape[1], 1))\n",
    "x_val = np.reshape(x_val, (x_val.shape[0], x_val.shape[1], 1))\n",
    "x_test = np.reshape(x_test, (x_test.shape[0], x_test.shape[1], 1))"
   ]
  },
  {
   "cell_type": "code",
   "execution_count": 9,
   "metadata": {
    "ExecuteTime": {
     "end_time": "2019-11-07T03:03:11.797941Z",
     "start_time": "2019-11-07T03:03:11.551564Z"
    }
   },
   "outputs": [],
   "source": [
    "model = Sequential()\n",
    "model.add(LSTM(32, input_shape=(None, 1)))\n",
    "model.add(Dropout(0.3))\n",
    "model.add(Dense(1))"
   ]
  },
  {
   "cell_type": "code",
   "execution_count": 10,
   "metadata": {
    "ExecuteTime": {
     "end_time": "2019-11-07T03:03:11.827843Z",
     "start_time": "2019-11-07T03:03:11.799898Z"
    }
   },
   "outputs": [],
   "source": [
    "model.compile(loss='mean_squared_error', optimizer='adam')"
   ]
  },
  {
   "cell_type": "code",
   "execution_count": 11,
   "metadata": {
    "ExecuteTime": {
     "end_time": "2019-11-07T03:03:46.845747Z",
     "start_time": "2019-11-07T03:03:11.829818Z"
    }
   },
   "outputs": [
    {
     "name": "stdout",
     "output_type": "stream",
     "text": [
      "Train on 179 samples, validate on 33 samples\n",
      "Epoch 1/200\n",
      "179/179 [==============================] - 1s 4ms/step - loss: 4.0619 - val_loss: 8.5020\n",
      "Epoch 2/200\n",
      "179/179 [==============================] - 0s 1ms/step - loss: 2.5557 - val_loss: 6.0994\n",
      "Epoch 3/200\n",
      "179/179 [==============================] - 0s 1ms/step - loss: 1.5877 - val_loss: 4.2069\n",
      "Epoch 4/200\n",
      "179/179 [==============================] - 0s 981us/step - loss: 0.8732 - val_loss: 2.8031\n",
      "Epoch 5/200\n",
      "179/179 [==============================] - 0s 1ms/step - loss: 0.4014 - val_loss: 1.8706\n",
      "Epoch 6/200\n",
      "179/179 [==============================] - 0s 997us/step - loss: 0.4199 - val_loss: 1.4114\n",
      "Epoch 7/200\n",
      "179/179 [==============================] - 0s 931us/step - loss: 0.3755 - val_loss: 1.3607\n",
      "Epoch 8/200\n",
      "179/179 [==============================] - 0s 934us/step - loss: 0.3579 - val_loss: 1.5041\n",
      "Epoch 9/200\n",
      "179/179 [==============================] - 0s 950us/step - loss: 0.3178 - val_loss: 1.6655\n",
      "Epoch 10/200\n",
      "179/179 [==============================] - 0s 969us/step - loss: 0.3183 - val_loss: 1.7111\n",
      "Epoch 11/200\n",
      "179/179 [==============================] - 0s 1ms/step - loss: 0.3013 - val_loss: 1.5796\n",
      "Epoch 12/200\n",
      "179/179 [==============================] - 0s 981us/step - loss: 0.2975 - val_loss: 1.3494\n",
      "Epoch 13/200\n",
      "179/179 [==============================] - 0s 936us/step - loss: 0.2578 - val_loss: 1.1620\n",
      "Epoch 14/200\n",
      "179/179 [==============================] - 0s 925us/step - loss: 0.2429 - val_loss: 1.0108\n",
      "Epoch 15/200\n",
      "179/179 [==============================] - 0s 947us/step - loss: 0.1939 - val_loss: 0.9267\n",
      "Epoch 16/200\n",
      "179/179 [==============================] - 0s 957us/step - loss: 0.2076 - val_loss: 0.8470\n",
      "Epoch 17/200\n",
      "179/179 [==============================] - 0s 984us/step - loss: 0.2489 - val_loss: 0.7263\n",
      "Epoch 18/200\n",
      "179/179 [==============================] - 0s 1ms/step - loss: 0.1592 - val_loss: 0.5559\n",
      "Epoch 19/200\n",
      "179/179 [==============================] - 0s 975us/step - loss: 0.1709 - val_loss: 0.4624\n",
      "Epoch 20/200\n",
      "179/179 [==============================] - 0s 964us/step - loss: 0.1944 - val_loss: 0.4014\n",
      "Epoch 21/200\n",
      "179/179 [==============================] - 0s 975us/step - loss: 0.1878 - val_loss: 0.3747\n",
      "Epoch 22/200\n",
      "179/179 [==============================] - 0s 975us/step - loss: 0.1478 - val_loss: 0.3143\n",
      "Epoch 23/200\n",
      "179/179 [==============================] - 0s 951us/step - loss: 0.1768 - val_loss: 0.2711\n",
      "Epoch 24/200\n",
      "179/179 [==============================] - 0s 936us/step - loss: 0.1542 - val_loss: 0.2699\n",
      "Epoch 25/200\n",
      "179/179 [==============================] - 0s 950us/step - loss: 0.1785 - val_loss: 0.2670\n",
      "Epoch 26/200\n",
      "179/179 [==============================] - 0s 981us/step - loss: 0.1701 - val_loss: 0.2197\n",
      "Epoch 27/200\n",
      "179/179 [==============================] - 0s 935us/step - loss: 0.1513 - val_loss: 0.2078\n",
      "Epoch 28/200\n",
      "179/179 [==============================] - 0s 936us/step - loss: 0.1657 - val_loss: 0.2330\n",
      "Epoch 29/200\n",
      "179/179 [==============================] - 0s 964us/step - loss: 0.1498 - val_loss: 0.1819\n",
      "Epoch 30/200\n",
      "179/179 [==============================] - 0s 975us/step - loss: 0.1882 - val_loss: 0.2229\n",
      "Epoch 31/200\n",
      "179/179 [==============================] - 0s 986us/step - loss: 0.1386 - val_loss: 0.2334\n",
      "Epoch 32/200\n",
      "179/179 [==============================] - 0s 958us/step - loss: 0.1414 - val_loss: 0.2151\n",
      "Epoch 33/200\n",
      "179/179 [==============================] - 0s 930us/step - loss: 0.1136 - val_loss: 0.2324\n",
      "Epoch 34/200\n",
      "179/179 [==============================] - 0s 956us/step - loss: 0.1725 - val_loss: 0.2474\n",
      "Epoch 35/200\n",
      "179/179 [==============================] - 0s 956us/step - loss: 0.1788 - val_loss: 0.2532\n",
      "Epoch 36/200\n",
      "179/179 [==============================] - 0s 1ms/step - loss: 0.1415 - val_loss: 0.2587\n",
      "Epoch 37/200\n",
      "179/179 [==============================] - 0s 944us/step - loss: 0.1304 - val_loss: 0.2002\n",
      "Epoch 38/200\n",
      "179/179 [==============================] - 0s 953us/step - loss: 0.1225 - val_loss: 0.2483\n",
      "Epoch 39/200\n",
      "179/179 [==============================] - 0s 925us/step - loss: 0.1299 - val_loss: 0.2195\n",
      "Epoch 40/200\n",
      "179/179 [==============================] - 0s 958us/step - loss: 0.1756 - val_loss: 0.1561\n",
      "Epoch 41/200\n",
      "179/179 [==============================] - 0s 942us/step - loss: 0.1417 - val_loss: 0.2365\n",
      "Epoch 42/200\n",
      "179/179 [==============================] - 0s 947us/step - loss: 0.1729 - val_loss: 0.1852\n",
      "Epoch 43/200\n",
      "179/179 [==============================] - 0s 1ms/step - loss: 0.1320 - val_loss: 0.1528\n",
      "Epoch 44/200\n",
      "179/179 [==============================] - 0s 925us/step - loss: 0.1445 - val_loss: 0.2427\n",
      "Epoch 45/200\n",
      "179/179 [==============================] - 0s 940us/step - loss: 0.1420 - val_loss: 0.2188\n",
      "Epoch 46/200\n",
      "179/179 [==============================] - 0s 978us/step - loss: 0.1428 - val_loss: 0.1654\n",
      "Epoch 47/200\n",
      "179/179 [==============================] - 0s 1ms/step - loss: 0.1509 - val_loss: 0.2275\n",
      "Epoch 48/200\n",
      "179/179 [==============================] - 0s 979us/step - loss: 0.1253 - val_loss: 0.2307\n",
      "Epoch 49/200\n",
      "179/179 [==============================] - 0s 965us/step - loss: 0.1484 - val_loss: 0.2279\n",
      "Epoch 50/200\n",
      "179/179 [==============================] - 0s 958us/step - loss: 0.1333 - val_loss: 0.2002\n",
      "Epoch 51/200\n",
      "179/179 [==============================] - 0s 964us/step - loss: 0.1118 - val_loss: 0.1874\n",
      "Epoch 52/200\n",
      "179/179 [==============================] - 0s 958us/step - loss: 0.1227 - val_loss: 0.1705\n",
      "Epoch 53/200\n",
      "179/179 [==============================] - 0s 925us/step - loss: 0.1391 - val_loss: 0.1425\n",
      "Epoch 54/200\n",
      "179/179 [==============================] - 0s 926us/step - loss: 0.1531 - val_loss: 0.1459\n",
      "Epoch 55/200\n",
      "179/179 [==============================] - 0s 919us/step - loss: 0.1324 - val_loss: 0.1570\n",
      "Epoch 56/200\n",
      "179/179 [==============================] - 0s 886us/step - loss: 0.1256 - val_loss: 0.1733\n",
      "Epoch 57/200\n",
      "179/179 [==============================] - 0s 906us/step - loss: 0.1182 - val_loss: 0.1509\n",
      "Epoch 58/200\n",
      "179/179 [==============================] - 0s 925us/step - loss: 0.1398 - val_loss: 0.1606\n",
      "Epoch 59/200\n",
      "179/179 [==============================] - 0s 897us/step - loss: 0.1199 - val_loss: 0.1904\n",
      "Epoch 60/200\n",
      "179/179 [==============================] - 0s 914us/step - loss: 0.1575 - val_loss: 0.1972\n",
      "Epoch 61/200\n",
      "179/179 [==============================] - 0s 951us/step - loss: 0.1101 - val_loss: 0.1786\n",
      "Epoch 62/200\n",
      "179/179 [==============================] - 0s 942us/step - loss: 0.1536 - val_loss: 0.1861\n",
      "Epoch 63/200\n",
      "179/179 [==============================] - 0s 958us/step - loss: 0.1482 - val_loss: 0.2014\n",
      "Epoch 64/200\n",
      "179/179 [==============================] - 0s 1ms/step - loss: 0.1144 - val_loss: 0.1599\n",
      "Epoch 65/200\n",
      "179/179 [==============================] - 0s 1ms/step - loss: 0.1491 - val_loss: 0.1389\n",
      "Epoch 66/200\n",
      "179/179 [==============================] - 0s 1ms/step - loss: 0.1231 - val_loss: 0.1620\n",
      "Epoch 67/200\n",
      "179/179 [==============================] - 0s 1ms/step - loss: 0.1442 - val_loss: 0.1098\n",
      "Epoch 68/200\n",
      "179/179 [==============================] - 0s 1ms/step - loss: 0.1283 - val_loss: 0.1364\n",
      "Epoch 69/200\n",
      "179/179 [==============================] - 0s 1ms/step - loss: 0.1268 - val_loss: 0.2121\n",
      "Epoch 70/200\n",
      "179/179 [==============================] - 0s 1ms/step - loss: 0.1366 - val_loss: 0.1187\n",
      "Epoch 71/200\n",
      "179/179 [==============================] - 0s 908us/step - loss: 0.1315 - val_loss: 0.1979\n",
      "Epoch 72/200\n",
      "179/179 [==============================] - 0s 930us/step - loss: 0.1539 - val_loss: 0.1805\n",
      "Epoch 73/200\n",
      "179/179 [==============================] - 0s 953us/step - loss: 0.1230 - val_loss: 0.1414\n",
      "Epoch 74/200\n",
      "179/179 [==============================] - 0s 964us/step - loss: 0.1317 - val_loss: 0.1930\n",
      "Epoch 75/200\n",
      "179/179 [==============================] - 0s 978us/step - loss: 0.1225 - val_loss: 0.1944\n",
      "Epoch 76/200\n",
      "179/179 [==============================] - 0s 981us/step - loss: 0.1257 - val_loss: 0.1108\n",
      "Epoch 77/200\n",
      "179/179 [==============================] - 0s 995us/step - loss: 0.1174 - val_loss: 0.1620\n",
      "Epoch 78/200\n",
      "179/179 [==============================] - 0s 953us/step - loss: 0.1218 - val_loss: 0.1821\n",
      "Epoch 79/200\n"
     ]
    },
    {
     "name": "stdout",
     "output_type": "stream",
     "text": [
      "179/179 [==============================] - 0s 942us/step - loss: 0.1244 - val_loss: 0.1302\n",
      "Epoch 80/200\n",
      "179/179 [==============================] - 0s 981us/step - loss: 0.1245 - val_loss: 0.1459\n",
      "Epoch 81/200\n",
      "179/179 [==============================] - 0s 984us/step - loss: 0.1039 - val_loss: 0.1798\n",
      "Epoch 82/200\n",
      "179/179 [==============================] - 0s 992us/step - loss: 0.1261 - val_loss: 0.1318\n",
      "Epoch 83/200\n",
      "179/179 [==============================] - 0s 951us/step - loss: 0.1552 - val_loss: 0.1391\n",
      "Epoch 84/200\n",
      "179/179 [==============================] - 0s 939us/step - loss: 0.1193 - val_loss: 0.1492\n",
      "Epoch 85/200\n",
      "179/179 [==============================] - 0s 936us/step - loss: 0.1329 - val_loss: 0.1331\n",
      "Epoch 86/200\n",
      "179/179 [==============================] - 0s 975us/step - loss: 0.1452 - val_loss: 0.0916\n",
      "Epoch 87/200\n",
      "179/179 [==============================] - 0s 947us/step - loss: 0.1238 - val_loss: 0.1107\n",
      "Epoch 88/200\n",
      "179/179 [==============================] - 0s 1ms/step - loss: 0.1178 - val_loss: 0.1114\n",
      "Epoch 89/200\n",
      "179/179 [==============================] - 0s 1ms/step - loss: 0.1079 - val_loss: 0.1234\n",
      "Epoch 90/200\n",
      "179/179 [==============================] - 0s 950us/step - loss: 0.1241 - val_loss: 0.1195\n",
      "Epoch 91/200\n",
      "179/179 [==============================] - 0s 946us/step - loss: 0.1439 - val_loss: 0.1534\n",
      "Epoch 92/200\n",
      "179/179 [==============================] - 0s 931us/step - loss: 0.1248 - val_loss: 0.1587\n",
      "Epoch 93/200\n",
      "179/179 [==============================] - 0s 975us/step - loss: 0.1475 - val_loss: 0.1256\n",
      "Epoch 94/200\n",
      "179/179 [==============================] - 0s 947us/step - loss: 0.1216 - val_loss: 0.2067\n",
      "Epoch 95/200\n",
      "179/179 [==============================] - 0s 919us/step - loss: 0.1554 - val_loss: 0.1408\n",
      "Epoch 96/200\n",
      "179/179 [==============================] - 0s 975us/step - loss: 0.1275 - val_loss: 0.1420\n",
      "Epoch 97/200\n",
      "179/179 [==============================] - 0s 958us/step - loss: 0.1268 - val_loss: 0.1967\n",
      "Epoch 98/200\n",
      "179/179 [==============================] - 0s 925us/step - loss: 0.1342 - val_loss: 0.1562\n",
      "Epoch 99/200\n",
      "179/179 [==============================] - 0s 911us/step - loss: 0.1212 - val_loss: 0.1744\n",
      "Epoch 100/200\n",
      "179/179 [==============================] - 0s 903us/step - loss: 0.1364 - val_loss: 0.2168\n",
      "Epoch 101/200\n",
      "179/179 [==============================] - 0s 927us/step - loss: 0.1211 - val_loss: 0.1361\n",
      "Epoch 102/200\n",
      "179/179 [==============================] - 0s 930us/step - loss: 0.1368 - val_loss: 0.1777\n",
      "Epoch 103/200\n",
      "179/179 [==============================] - 0s 964us/step - loss: 0.1202 - val_loss: 0.1701\n",
      "Epoch 104/200\n",
      "179/179 [==============================] - 0s 930us/step - loss: 0.1170 - val_loss: 0.1770\n",
      "Epoch 105/200\n",
      "179/179 [==============================] - 0s 953us/step - loss: 0.1460 - val_loss: 0.1810\n",
      "Epoch 106/200\n",
      "179/179 [==============================] - 0s 880us/step - loss: 0.1290 - val_loss: 0.1283\n",
      "Epoch 107/200\n",
      "179/179 [==============================] - 0s 880us/step - loss: 0.1367 - val_loss: 0.1988\n",
      "Epoch 108/200\n",
      "179/179 [==============================] - 0s 872us/step - loss: 0.1238 - val_loss: 0.1651\n",
      "Epoch 109/200\n",
      "179/179 [==============================] - 0s 942us/step - loss: 0.1208 - val_loss: 0.1383\n",
      "Epoch 110/200\n",
      "179/179 [==============================] - 0s 948us/step - loss: 0.1032 - val_loss: 0.2290\n",
      "Epoch 111/200\n",
      "179/179 [==============================] - 0s 947us/step - loss: 0.1231 - val_loss: 0.1599\n",
      "Epoch 112/200\n",
      "179/179 [==============================] - 0s 986us/step - loss: 0.1248 - val_loss: 0.1762\n",
      "Epoch 113/200\n",
      "179/179 [==============================] - 0s 953us/step - loss: 0.1515 - val_loss: 0.2426\n",
      "Epoch 114/200\n",
      "179/179 [==============================] - 0s 953us/step - loss: 0.1339 - val_loss: 0.1836\n",
      "Epoch 115/200\n",
      "179/179 [==============================] - 0s 942us/step - loss: 0.1081 - val_loss: 0.1625\n",
      "Epoch 116/200\n",
      "179/179 [==============================] - 0s 942us/step - loss: 0.1225 - val_loss: 0.1363\n",
      "Epoch 117/200\n",
      "179/179 [==============================] - 0s 914us/step - loss: 0.1181 - val_loss: 0.1272\n",
      "Epoch 118/200\n",
      "179/179 [==============================] - 0s 939us/step - loss: 0.1203 - val_loss: 0.1307\n",
      "Epoch 119/200\n",
      "179/179 [==============================] - 0s 906us/step - loss: 0.1150 - val_loss: 0.1266\n",
      "Epoch 120/200\n",
      "179/179 [==============================] - 0s 903us/step - loss: 0.1157 - val_loss: 0.0833\n",
      "Epoch 121/200\n",
      "179/179 [==============================] - 0s 900us/step - loss: 0.1292 - val_loss: 0.1665\n",
      "Epoch 122/200\n",
      "179/179 [==============================] - 0s 886us/step - loss: 0.1487 - val_loss: 0.1417\n",
      "Epoch 123/200\n",
      "179/179 [==============================] - 0s 897us/step - loss: 0.1033 - val_loss: 0.1156\n",
      "Epoch 124/200\n",
      "179/179 [==============================] - 0s 930us/step - loss: 0.1022 - val_loss: 0.1629\n",
      "Epoch 125/200\n",
      "179/179 [==============================] - 0s 919us/step - loss: 0.1312 - val_loss: 0.1208\n",
      "Epoch 126/200\n",
      "179/179 [==============================] - 0s 942us/step - loss: 0.1282 - val_loss: 0.1375\n",
      "Epoch 127/200\n",
      "179/179 [==============================] - 0s 886us/step - loss: 0.1253 - val_loss: 0.2166\n",
      "Epoch 128/200\n",
      "179/179 [==============================] - 0s 919us/step - loss: 0.1031 - val_loss: 0.1276\n",
      "Epoch 129/200\n",
      "179/179 [==============================] - 0s 925us/step - loss: 0.1287 - val_loss: 0.1849\n",
      "Epoch 130/200\n",
      "179/179 [==============================] - 0s 954us/step - loss: 0.1064 - val_loss: 0.1952\n",
      "Epoch 131/200\n",
      "179/179 [==============================] - 0s 1ms/step - loss: 0.1519 - val_loss: 0.1947\n",
      "Epoch 132/200\n",
      "179/179 [==============================] - 0s 1ms/step - loss: 0.1284 - val_loss: 0.1722\n",
      "Epoch 133/200\n",
      "179/179 [==============================] - 0s 903us/step - loss: 0.1214 - val_loss: 0.1437\n",
      "Epoch 134/200\n",
      "179/179 [==============================] - 0s 864us/step - loss: 0.1265 - val_loss: 0.1862\n",
      "Epoch 135/200\n",
      "179/179 [==============================] - 0s 891us/step - loss: 0.1106 - val_loss: 0.1809\n",
      "Epoch 136/200\n",
      "179/179 [==============================] - 0s 875us/step - loss: 0.1164 - val_loss: 0.1394\n",
      "Epoch 137/200\n",
      "179/179 [==============================] - 0s 879us/step - loss: 0.1205 - val_loss: 0.1698\n",
      "Epoch 138/200\n",
      "179/179 [==============================] - 0s 891us/step - loss: 0.1141 - val_loss: 0.1881\n",
      "Epoch 139/200\n",
      "179/179 [==============================] - 0s 952us/step - loss: 0.1177 - val_loss: 0.1368\n",
      "Epoch 140/200\n",
      "179/179 [==============================] - 0s 868us/step - loss: 0.1342 - val_loss: 0.1831\n",
      "Epoch 141/200\n",
      "179/179 [==============================] - 0s 914us/step - loss: 0.1199 - val_loss: 0.1384\n",
      "Epoch 142/200\n",
      "179/179 [==============================] - 0s 997us/step - loss: 0.1283 - val_loss: 0.1579\n",
      "Epoch 143/200\n",
      "179/179 [==============================] - 0s 1ms/step - loss: 0.1362 - val_loss: 0.1910\n",
      "Epoch 144/200\n",
      "179/179 [==============================] - 0s 958us/step - loss: 0.1353 - val_loss: 0.1609\n",
      "Epoch 145/200\n",
      "179/179 [==============================] - 0s 880us/step - loss: 0.1275 - val_loss: 0.1684\n",
      "Epoch 146/200\n",
      "179/179 [==============================] - 0s 886us/step - loss: 0.0959 - val_loss: 0.1699\n",
      "Epoch 147/200\n",
      "179/179 [==============================] - 0s 930us/step - loss: 0.1121 - val_loss: 0.1290\n",
      "Epoch 148/200\n",
      "179/179 [==============================] - 0s 913us/step - loss: 0.1318 - val_loss: 0.1902\n",
      "Epoch 149/200\n",
      "179/179 [==============================] - 0s 909us/step - loss: 0.1304 - val_loss: 0.1703\n",
      "Epoch 150/200\n",
      "179/179 [==============================] - 0s 872us/step - loss: 0.1187 - val_loss: 0.1156\n",
      "Epoch 151/200\n",
      "179/179 [==============================] - 0s 869us/step - loss: 0.1165 - val_loss: 0.1833\n",
      "Epoch 152/200\n",
      "179/179 [==============================] - 0s 886us/step - loss: 0.1127 - val_loss: 0.1635\n",
      "Epoch 153/200\n",
      "179/179 [==============================] - 0s 908us/step - loss: 0.1314 - val_loss: 0.2180\n",
      "Epoch 154/200\n",
      "179/179 [==============================] - 0s 886us/step - loss: 0.1432 - val_loss: 0.2080\n",
      "Epoch 155/200\n",
      "179/179 [==============================] - 0s 897us/step - loss: 0.1216 - val_loss: 0.1472\n",
      "Epoch 156/200\n",
      "179/179 [==============================] - 0s 919us/step - loss: 0.1149 - val_loss: 0.1637\n",
      "Epoch 157/200\n"
     ]
    },
    {
     "name": "stdout",
     "output_type": "stream",
     "text": [
      "179/179 [==============================] - 0s 886us/step - loss: 0.1243 - val_loss: 0.1378\n",
      "Epoch 158/200\n",
      "179/179 [==============================] - 0s 880us/step - loss: 0.1169 - val_loss: 0.1721\n",
      "Epoch 159/200\n",
      "179/179 [==============================] - 0s 900us/step - loss: 0.1235 - val_loss: 0.1873\n",
      "Epoch 160/200\n",
      "179/179 [==============================] - 0s 869us/step - loss: 0.1496 - val_loss: 0.1415\n",
      "Epoch 161/200\n",
      "179/179 [==============================] - 0s 875us/step - loss: 0.1326 - val_loss: 0.1681\n",
      "Epoch 162/200\n",
      "179/179 [==============================] - 0s 886us/step - loss: 0.1215 - val_loss: 0.1950\n",
      "Epoch 163/200\n",
      "179/179 [==============================] - 0s 875us/step - loss: 0.1129 - val_loss: 0.2428\n",
      "Epoch 164/200\n",
      "179/179 [==============================] - 0s 869us/step - loss: 0.1121 - val_loss: 0.1832\n",
      "Epoch 165/200\n",
      "179/179 [==============================] - 0s 864us/step - loss: 0.1069 - val_loss: 0.1959\n",
      "Epoch 166/200\n",
      "179/179 [==============================] - 0s 928us/step - loss: 0.1246 - val_loss: 0.2008\n",
      "Epoch 167/200\n",
      "179/179 [==============================] - 0s 880us/step - loss: 0.1229 - val_loss: 0.1567\n",
      "Epoch 168/200\n",
      "179/179 [==============================] - 0s 901us/step - loss: 0.1258 - val_loss: 0.2024\n",
      "Epoch 169/200\n",
      "179/179 [==============================] - 0s 873us/step - loss: 0.1120 - val_loss: 0.1603\n",
      "Epoch 170/200\n",
      "179/179 [==============================] - 0s 864us/step - loss: 0.1084 - val_loss: 0.1612\n",
      "Epoch 171/200\n",
      "179/179 [==============================] - 0s 875us/step - loss: 0.1243 - val_loss: 0.1571\n",
      "Epoch 172/200\n",
      "179/179 [==============================] - 0s 908us/step - loss: 0.1403 - val_loss: 0.1699\n",
      "Epoch 173/200\n",
      "179/179 [==============================] - 0s 897us/step - loss: 0.1246 - val_loss: 0.1368\n",
      "Epoch 174/200\n",
      "179/179 [==============================] - 0s 875us/step - loss: 0.1135 - val_loss: 0.1402\n",
      "Epoch 175/200\n",
      "179/179 [==============================] - 0s 880us/step - loss: 0.1119 - val_loss: 0.0944\n",
      "Epoch 176/200\n",
      "179/179 [==============================] - 0s 870us/step - loss: 0.1275 - val_loss: 0.1180\n",
      "Epoch 177/200\n",
      "179/179 [==============================] - 0s 869us/step - loss: 0.1148 - val_loss: 0.1183\n",
      "Epoch 178/200\n",
      "179/179 [==============================] - 0s 898us/step - loss: 0.1104 - val_loss: 0.1370\n",
      "Epoch 179/200\n",
      "179/179 [==============================] - 0s 907us/step - loss: 0.1167 - val_loss: 0.1292\n",
      "Epoch 180/200\n",
      "179/179 [==============================] - 0s 875us/step - loss: 0.1178 - val_loss: 0.1626\n",
      "Epoch 181/200\n",
      "179/179 [==============================] - 0s 891us/step - loss: 0.1197 - val_loss: 0.1204\n",
      "Epoch 182/200\n",
      "179/179 [==============================] - 0s 880us/step - loss: 0.1450 - val_loss: 0.1164\n",
      "Epoch 183/200\n",
      "179/179 [==============================] - 0s 886us/step - loss: 0.1103 - val_loss: 0.1650\n",
      "Epoch 184/200\n",
      "179/179 [==============================] - 0s 875us/step - loss: 0.1087 - val_loss: 0.1641\n",
      "Epoch 185/200\n",
      "179/179 [==============================] - 0s 886us/step - loss: 0.1262 - val_loss: 0.1492\n",
      "Epoch 186/200\n",
      "179/179 [==============================] - 0s 871us/step - loss: 0.1457 - val_loss: 0.1798\n",
      "Epoch 187/200\n",
      "179/179 [==============================] - 0s 869us/step - loss: 0.1198 - val_loss: 0.1877\n",
      "Epoch 188/200\n",
      "179/179 [==============================] - 0s 895us/step - loss: 0.1251 - val_loss: 0.2032\n",
      "Epoch 189/200\n",
      "179/179 [==============================] - 0s 867us/step - loss: 0.1195 - val_loss: 0.2062\n",
      "Epoch 190/200\n",
      "179/179 [==============================] - 0s 903us/step - loss: 0.1053 - val_loss: 0.1903\n",
      "Epoch 191/200\n",
      "179/179 [==============================] - 0s 930us/step - loss: 0.1191 - val_loss: 0.1823\n",
      "Epoch 192/200\n",
      "179/179 [==============================] - 0s 953us/step - loss: 0.1402 - val_loss: 0.2421\n",
      "Epoch 193/200\n",
      "179/179 [==============================] - 0s 875us/step - loss: 0.1226 - val_loss: 0.1729\n",
      "Epoch 194/200\n",
      "179/179 [==============================] - 0s 936us/step - loss: 0.1147 - val_loss: 0.1626\n",
      "Epoch 195/200\n",
      "179/179 [==============================] - 0s 869us/step - loss: 0.1209 - val_loss: 0.1886\n",
      "Epoch 196/200\n",
      "179/179 [==============================] - 0s 898us/step - loss: 0.1005 - val_loss: 0.1615\n",
      "Epoch 197/200\n",
      "179/179 [==============================] - 0s 869us/step - loss: 0.1189 - val_loss: 0.1881\n",
      "Epoch 198/200\n",
      "179/179 [==============================] - 0s 878us/step - loss: 0.1270 - val_loss: 0.1510\n",
      "Epoch 199/200\n",
      "179/179 [==============================] - 0s 869us/step - loss: 0.1146 - val_loss: 0.1196\n",
      "Epoch 200/200\n",
      "179/179 [==============================] - 0s 880us/step - loss: 0.1133 - val_loss: 0.1518\n"
     ]
    }
   ],
   "source": [
    "hist = model.fit(x_train, y_train, epochs=200, batch_size=32, validation_data=(x_val, y_val))"
   ]
  },
  {
   "cell_type": "code",
   "execution_count": 12,
   "metadata": {
    "ExecuteTime": {
     "end_time": "2019-11-07T03:03:47.005357Z",
     "start_time": "2019-11-07T03:03:46.847742Z"
    }
   },
   "outputs": [
    {
     "data": {
      "image/png": "[encoded data removed]",
      "text/plain": [
       "<Figure size 432x288 with 1 Axes>"
      ]
     },
     "metadata": {
      "needs_background": "light"
     },
     "output_type": "display_data"
    }
   ],
   "source": [
    "plt.clf()\n",
    "plt.plot(hist.history['loss'])\n",
    "plt.plot(hist.history['val_loss'])\n",
    "plt.ylim(0.0, 5.0)\n",
    "plt.ylabel('Loss')\n",
    "plt.xlabel('Epoch')\n",
    "plt.legend(['train', 'val'], loc='upper left')\n",
    "plt.show()"
   ]
  },
  {
   "cell_type": "code",
   "execution_count": 13,
   "metadata": {
    "ExecuteTime": {
     "end_time": "2019-11-07T03:03:47.066157Z",
     "start_time": "2019-11-07T03:03:47.007352Z"
    }
   },
   "outputs": [
    {
     "name": "stdout",
     "output_type": "stream",
     "text": [
      "Train Score:  0.043133659069764546\n",
      "Validataion Score:  0.1517968914951339\n",
      "Test Score:  0.8792781540841768\n"
     ]
    }
   ],
   "source": [
    "trainScore = model.evaluate(x_train, y_train, verbose=0)\n",
    "print('Train Score: ', trainScore)\n",
    "valScore = model.evaluate(x_val, y_val, verbose=0)\n",
    "print('Validataion Score: ', valScore)\n",
    "testScore = model.evaluate(x_test, y_test, verbose=0)\n",
    "print('Test Score: ', testScore)"
   ]
  },
  {
   "cell_type": "code",
   "execution_count": 26,
   "metadata": {
    "ExecuteTime": {
     "end_time": "2019-11-07T03:08:19.229128Z",
     "start_time": "2019-11-07T03:08:19.073633Z"
    }
   },
   "outputs": [],
   "source": [
    "look_ahead = 30\n",
    "xhat = x_test[0]\n",
    "predictions = np.zeros((look_ahead,1))\n",
    "for i in range(look_ahead):\n",
    "    prediction = model.predict(np.array([xhat]), batch_size=1)\n",
    "    predictions[i] = prediction\n",
    "    xhat = np.vstack([xhat[1:],prediction])"
   ]
  },
  {
   "cell_type": "code",
   "execution_count": 28,
   "metadata": {
    "ExecuteTime": {
     "end_time": "2019-11-07T03:09:58.147947Z",
     "start_time": "2019-11-07T03:09:57.938442Z"
    }
   },
   "outputs": [
    {
     "data": {
      "image/png": "[encoded data removed]",
      "text/plain": [
       "<Figure size 1080x360 with 1 Axes>"
      ]
     },
     "metadata": {
      "needs_background": "light"
     },
     "output_type": "display_data"
    }
   ],
   "source": [
    "plt.figure(figsize=(15,5))\n",
    "plt.plot(np.arange(look_ahead),predictions,'r',label=\"prediction\")\n",
    "plt.plot(np.arange(look_ahead),y_test[:look_ahead],label=\"test function\")\n",
    "plt.legend()\n",
    "plt.show()"
   ]
  },
  {
   "cell_type": "code",
   "execution_count": null,
   "metadata": {},
   "outputs": [],
   "source": []
  }
 ],
 "metadata": {
  "hide_input": false,
  "kernelspec": {
   "display_name": "Python 3",
   "language": "python",
   "name": "python3"
  },
  "language_info": {
   "codemirror_mode": {
    "name": "ipython",
    "version": 3
   },
   "file_extension": ".py",
   "mimetype": "text/x-python",
   "name": "python",
   "nbconvert_exporter": "python",
   "pygments_lexer": "ipython3",
   "version": "3.6.9"
  }
 },
 "nbformat": 4,
 "nbformat_minor": 2
}
