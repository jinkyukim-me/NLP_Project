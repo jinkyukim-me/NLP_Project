{
 "cells": [
  {
   "cell_type": "code",
   "execution_count": 1,
   "metadata": {},
   "outputs": [
    {
     "name": "stdout",
     "output_type": "stream",
     "text": [
      "Requirement already satisfied: wordcloud in c:\\users\\jungs\\anaconda3\\lib\\site-packages (1.5.0)\n",
      "Requirement already satisfied: pillow in c:\\users\\jungs\\anaconda3\\lib\\site-packages (from wordcloud) (6.1.0)\n",
      "Requirement already satisfied: numpy>=1.6.1 in c:\\users\\jungs\\anaconda3\\lib\\site-packages (from wordcloud) (1.16.4)\n",
      "Note: you may need to restart the kernel to use updated packages.\n"
     ]
    }
   ],
   "source": [
    "pip install wordcloud"
   ]
  },
  {
   "cell_type": "code",
   "execution_count": 2,
   "metadata": {},
   "outputs": [
    {
     "name": "stdout",
     "output_type": "stream",
     "text": [
      "Requirement already satisfied: konlpy in c:\\users\\jungs\\anaconda3\\lib\\site-packages (0.5.1)\n",
      "Requirement already satisfied: JPype1>=0.5.7 in c:\\users\\jungs\\anaconda3\\lib\\site-packages (from konlpy) (0.7.0)\n",
      "Note: you may need to restart the kernel to use updated packages.\n"
     ]
    }
   ],
   "source": [
    "pip install konlpy"
   ]
  },
  {
   "cell_type": "code",
   "execution_count": 3,
   "metadata": {},
   "outputs": [
    {
     "name": "stdout",
     "output_type": "stream",
     "text": [
      "Requirement already satisfied: Pillow in c:\\users\\jungs\\anaconda3\\lib\\site-packages (6.1.0)\n",
      "Note: you may need to restart the kernel to use updated packages.\n"
     ]
    }
   ],
   "source": [
    "pip install Pillow"
   ]
  },
  {
   "cell_type": "code",
   "execution_count": 4,
   "metadata": {},
   "outputs": [
    {
     "name": "stdout",
     "output_type": "stream",
     "text": [
      "Requirement already satisfied: scipy in c:\\users\\jungs\\anaconda3\\lib\\site-packages (1.2.1)\n",
      "Note: you may need to restart the kernel to use updated packages.\n"
     ]
    }
   ],
   "source": [
    "pip install scipy "
   ]
  },
  {
   "cell_type": "code",
   "execution_count": 5,
   "metadata": {},
   "outputs": [
    {
     "name": "stdout",
     "output_type": "stream",
     "text": [
      "Requirement already satisfied: krwordrank in c:\\users\\jungs\\anaconda3\\lib\\site-packages (1.0.1)\n",
      "Requirement already satisfied: numpy>=1.12.1 in c:\\users\\jungs\\anaconda3\\lib\\site-packages (from krwordrank) (1.16.4)\n",
      "Note: you may need to restart the kernel to use updated packages.\n"
     ]
    }
   ],
   "source": [
    "pip install krwordrank"
   ]
  },
  {
   "cell_type": "code",
   "execution_count": 6,
   "metadata": {},
   "outputs": [],
   "source": [
    "import numpy as np\n",
    "import krwordrank\n",
    "import matplotlib.pyplot as plt\n",
    "from wordcloud import WordCloud\n",
    "from collections import Counter\n",
    "from konlpy.tag import Okt\n",
    "from PIL import Image"
   ]
  },
  {
   "cell_type": "markdown",
   "metadata": {},
   "source": [
    "데이터 주소"
   ]
  },
  {
   "cell_type": "code",
   "execution_count": 7,
   "metadata": {},
   "outputs": [],
   "source": [
    "d = \"E:\\TextRank\\daily.txt\""
   ]
  },
  {
   "cell_type": "markdown",
   "metadata": {},
   "source": [
    "데이터 전처리(엔터를 기준으로 한 문장으로 인식)"
   ]
  },
  {
   "cell_type": "code",
   "execution_count": 14,
   "metadata": {},
   "outputs": [],
   "source": [
    "def get_texts(d):\n",
    "    with open(d, encoding='utf-8') as f:\n",
    "        docs = [doc.replace('\\n','').split('\\n') for doc in f]\n",
    "        if not docs:\n",
    "            return []\n",
    "        \n",
    "        texts = docs\n",
    "        texts = list(texts)\n",
    "        texts = np.squeeze(texts)\n",
    "        return texts\n",
    "texts = get_texts(d)"
   ]
  },
  {
   "cell_type": "code",
   "execution_count": 15,
   "metadata": {},
   "outputs": [
    {
     "name": "stdout",
     "output_type": "stream",
     "text": [
      "['사랑해,처음 본 그 순간부터 사랑했고 너가 다른 남자와 행복하게 연애를 하는 순간에도 사랑했어.'\n",
      " ' 나는 너의 친한 친구이고 대학에서 만난 사람 중 가장 가까운 사람 중 하나다.'\n",
      " '널 사랑하지만 더 이상 다가가진 않을 것이다. 지금의 나는 너를 감당할 수 없기 때문이다.'\n",
      " '나는 잘 알고 있다, 예쁘고 착하고 다재다능한 너를 좋아하는 사람들이 얼마나 많은지.' '넌 뭘 먹고 자랐는지 그렇게 예쁠까.'\n",
      " '잘하는건 또 왜 그렇게 많은지.'\n",
      " '너의 글, 그림, 목소리, 생각, 말투, 춤, 흥얼거리는 노래, 작은 투정들, 시시콜콜한 얘기들, 작은 손, 동그란 얼굴, 취미, 꿈, 습관들... 그 모든 것을 사랑한다.'\n",
      " '너는 다정하다, 너는 상냥하고 따뜻하다.' '사랑스럽다.' '사랑스럽고 사랑스럽다.' '너를 마다할 남자가 있을까? 없다.'\n",
      " '너의 옆에는 항상 누군가 있었다.' '헤어졌다해도 바로 새로 생기는것을 보면 넌 정말로 모두에게 사랑스러운 사람인가보다.'\n",
      " '너의 주변만 봐도 알 수 있다.' '너가 얼마나 사랑받는 사람인지, 얼마나 많은 사람들이 너의 사랑을 받고싶어하는지.'\n",
      " '나도 그렇다.' '너의 사랑을 갖고싶다.'\n",
      " '눈을 뜨면 가장 먼저 보일 얼굴이 너의 그 예쁜 얼굴이었으면 좋겠고 잠들기전 마지막으로 볼 얼굴도 그 얼굴이었으면 좋겠다.'\n",
      " '너는 사랑스럽기도 하지만 가끔은 까칠하다.' '갑자기 날을 세우고 제멋대로 군다.' '바람같다.'\n",
      " '따뜻하게 보듬어주다가도 순식간에 태풍으로 변해 나를 숨막히게 한다.' '너는 네 자신이 변덕스럽다고 말한다.'\n",
      " '나는 그것마저 사랑한다.' '너의 따뜻함도 차가움도 모두 사랑한다.' '너의 밝음과 어두움, 그 모든 것을 사랑한다.'\n",
      " '애초에 너는 나의 삶을 파괴하고 들어왔었다.' '넌 나의 파괴적인 사랑이다.'\n",
      " '너의 섬세하고 거친 모습들, 한없이 사랑스럽다가도 한없이 차가워지는 모습들, 뭐 하나 놓치고 싶지 않다. 너의 존재 그 자체를 사랑해.'\n",
      " '그래서 나는 기다린다. 내가 너의 마지막 사랑이 될 그날을.'\n",
      " '언젠가 네가 모든 연애를 마치고 멈춰설 그 곳, 그곳에 있을 사람이 되고싶다.'\n",
      " '너의 마지막이 되고싶다, 너의 끝사랑이 되고싶다.' '너는 나의 첫사랑이자 끝사랑이 되고 나는 너의 끝사랑이 되고싶다.'\n",
      " '너는 내 마음만 훔쳐간 것이 아니다.'\n",
      " '내 미래도 훔쳐갔다. 너를 알게된 이후, 나는 너와 함께하는 미래만을 꿈꿀 수 있는 사람이 되었다.'\n",
      " '너를 위해, 어쩌면 올지도 모르는 너를 위해 나는 멋진 사람이 될 것이다, 너를 위해 사회적으로 안정적인 사람이 될 것이고 재정적으로도 안정적이고 싶다.'\n",
      " '네가 지친 마음을 끌어안고 언제든지 와서 머무를 수 있게 준비된 사람이고 싶다.' '너의 마지막이 되고싶다.'\n",
      " '너는 안 올수도 있지만 나는 혹시나 하는 마음에 준비를 한다.' '나는 너를 기다릴 것이다.'\n",
      " '너가 오지 않아도 너는 계속해서 나의 사랑스러운 사람으로 남을 것이다.' '기다릴 것이다.'\n",
      " '새내기때부터 지금까지, 몇 년동안 그래왔듯이.'\n",
      " '처음 너를 봤을 때 심장이 멈춘 그 순간, 너만 생각하면 뛰던 마음, 군대에서 깊은 밤 너를 생각하며 버틴 그 날들, 복학한 뒤 더 빛나던 너, 힘들다고 울면서 나에게 기대던 그 순간, 벚꽃이 떨어지던 자하연 앞에서 웃던 너.'\n",
      " '나를 지금까지 버티게해준 너와 나의 모든 순간들.' '이 벅찬 마음을 고백하는 날, 너가 환하게 웃어주길.']\n"
     ]
    }
   ],
   "source": [
    "print(texts)"
   ]
  },
  {
   "cell_type": "markdown",
   "metadata": {},
   "source": [
    "krwordrank로 문장요약, 키워드 추출"
   ]
  },
  {
   "cell_type": "code",
   "execution_count": 19,
   "metadata": {},
   "outputs": [
    {
     "name": "stdout",
     "output_type": "stream",
     "text": [
      "너는 나의 첫사랑이자 끝사랑이 되고 나는 너의 끝사랑이 되고싶다.\n",
      "['너의', '너는', '나는', '사랑', '너를', '나의', '사람이', '되고', '순간', '마음']\n"
     ]
    }
   ],
   "source": [
    "from krwordrank.sentence import summarize_with_sentences\n",
    "penalty = lambda x:0 if (25 <= len(x) <= 50) else 1\n",
    "stopwords = {'은', '는', '이', '가', '오늘'}\n",
    "keywords, sents = summarize_with_sentences(\n",
    "    texts,\n",
    "    penalty=penalty,\n",
    "    stopwords = stopwords,\n",
    "    diversity=0.7,\n",
    "    num_keywords=10,\n",
    "    num_keysents=1,\n",
    "    scaling=lambda x:1,\n",
    "    verbose=False,\n",
    ")\n",
    "keyword = []\n",
    "\n",
    "for sent in sents:\n",
    "    print(sent)\n",
    "for i in keywords:\n",
    "    keyword.append(i)\n",
    "print(keyword)"
   ]
  },
  {
   "cell_type": "markdown",
   "metadata": {},
   "source": [
    "워드 클라우드"
   ]
  },
  {
   "cell_type": "code",
   "execution_count": 20,
   "metadata": {},
   "outputs": [],
   "source": [
    "def daily_wordcloud(d):\n",
    "        f = open(d, 'r',encoding='UTF8')\n",
    "        data = f.read()\n",
    "        \n",
    "        engine = Okt() \n",
    "        nouns1 = engine.nouns(data)\n",
    "        nouns1 = [n for n in nouns1 if len(n) > 1]\n",
    "\n",
    "        # Counter: 단어수 세기, 가장 많이 등장한 단어(명사) 40개\n",
    "        count = Counter(nouns1)\n",
    "        tags = count.most_common(100)\n",
    "        \n",
    "        # 워드 클라우드 배경 사진\n",
    "        book_mask = np.array(Image.open('1.png'))\n",
    "\n",
    "        # WordCloud, matplotlib: 단어 구름 그리기\n",
    "        font_path = 'E:\\TextRank\\KBLZ.ttf'\n",
    "        wc = WordCloud(font_path=font_path, background_color='white', width=800, height=600, mask=book_mask)\n",
    "        cloud = wc.generate_from_frequencies(dict(tags))\n",
    "        plt.figure(figsize=(10,8))\n",
    "        plt.axis('off')\n",
    "        plt.imshow(cloud)"
   ]
  },
  {
   "cell_type": "code",
   "execution_count": 21,
   "metadata": {},
   "outputs": [
    {
     "data": {
      "image/png": "[encoded data removed]",
      "text/plain": [
       "<Figure size 720x576 with 1 Axes>"
      ]
     },
     "metadata": {
      "needs_background": "light"
     },
     "output_type": "display_data"
    }
   ],
   "source": [
    "daily_wordcloud(d)"
   ]
  },
  {
   "cell_type": "code",
   "execution_count": null,
   "metadata": {},
   "outputs": [],
   "source": []
  }
 ],
 "metadata": {
  "kernelspec": {
   "display_name": "Python 3",
   "language": "python",
   "name": "python3"
  },
  "language_info": {
   "codemirror_mode": {
    "name": "ipython",
    "version": 3
   },
   "file_extension": ".py",
   "mimetype": "text/x-python",
   "name": "python",
   "nbconvert_exporter": "python",
   "pygments_lexer": "ipython3",
   "version": "3.7.3"
  }
 },
 "nbformat": 4,
 "nbformat_minor": 2
}
