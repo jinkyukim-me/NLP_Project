{
 "cells": [
  {
   "cell_type": "code",
   "execution_count": null,
   "metadata": {
    "ExecuteTime": {
     "start_time": "2019-10-21T06:02:44.496Z"
    }
   },
   "outputs": [],
   "source": [
    "from selenium import webdriver\n",
    "from time import sleep\n",
    "import os\n",
    "\n",
    "driver = webdriver.Chrome('./driver/chromedriver.exe')\n",
    "driver.set_window_size(1200, 800)\n",
    "driver.implicitly_wait(3)\n",
    "\n",
    "for j in range (2,200):\n",
    "    line = 'https://brunch.co.kr/@liha/'+ str(j)\n",
    "    driver.get(line)\n",
    "    contents = driver.find_element_by_xpath('/html/body/div[3]/div[1]/div[2]/div[1]').text\n",
    "    if not contents:\n",
    "        continue\n",
    "    title = driver.find_element_by_xpath('/html/body/div[3]/div[1]/div[1]/div/div[3]/h1').text\n",
    "    year = driver.find_element_by_xpath('//*[@id=\"wrapArticleInfo\"]/span[4]').text\n",
    "\n",
    "    if '<' not in title:\n",
    "        continue\n",
    "    title = title.split('<')[1]\n",
    "    title = title.split('>')[0]\n",
    "    year = year.split('.')[1]\n",
    "    year = year[1:]\n",
    "    text1 = title\n",
    "    text1 = text1.replace('\\n', '').replace(':', ' ').replace('\\\\', '').replace('*', '').replace('?', '').replace('<',\n",
    "                                                                                                                  '').replace(\n",
    "        '>', '').replace('|', '').replace('/', '').replace('\"', '')\n",
    "    contents = contents.replace('\\n', '')\n",
    "\n",
    "    a = text1 + '(' + year + ').txt'\n",
    "    f2 = open(a, 'a+', encoding='utf-8', newline='')\n",
    "    f2.write(contents)\n",
    "    print(a)\n",
    "f.close()"
   ]
  }
 ],
 "metadata": {
  "hide_input": false,
  "kernelspec": {
   "display_name": "Python 3",
   "language": "python",
   "name": "python3"
  },
  "language_info": {
   "codemirror_mode": {
    "name": "ipython",
    "version": 3
   },
   "file_extension": ".py",
   "mimetype": "text/x-python",
   "name": "python",
   "nbconvert_exporter": "python",
   "pygments_lexer": "ipython3",
   "version": "3.6.9"
  },
  "toc": {
   "base_numbering": 1,
   "nav_menu": {},
   "number_sections": true,
   "sideBar": true,
   "skip_h1_title": false,
   "title_cell": "Table of Contents",
   "title_sidebar": "Contents",
   "toc_cell": false,
   "toc_position": {},
   "toc_section_display": true,
   "toc_window_display": false
  },
  "varInspector": {
   "cols": {
    "lenName": 16,
    "lenType": 16,
    "lenVar": 40
   },
   "kernels_config": {
    "python": {
     "delete_cmd_postfix": "",
     "delete_cmd_prefix": "del ",
     "library": "var_list.py",
     "varRefreshCmd": "print(var_dic_list())"
    },
    "r": {
     "delete_cmd_postfix": ") ",
     "delete_cmd_prefix": "rm(",
     "library": "var_list.r",
     "varRefreshCmd": "cat(var_dic_list()) "
    }
   },
   "types_to_exclude": [
    "module",
    "function",
    "builtin_function_or_method",
    "instance",
    "_Feature"
   ],
   "window_display": false
  }
 },
 "nbformat": 4,
 "nbformat_minor": 2
}
