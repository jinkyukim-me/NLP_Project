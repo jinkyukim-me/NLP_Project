{
 "cells": [
  {
   "cell_type": "code",
   "execution_count": 1,
   "metadata": {
    "ExecuteTime": {
     "end_time": "2019-10-18T15:54:43.980147Z",
     "start_time": "2019-10-18T15:54:43.819542Z"
    }
   },
   "outputs": [],
   "source": [
    "from selenium import webdriver\n",
    "from selenium.webdriver.common.keys import Keys\n",
    "import time"
   ]
  },
  {
   "cell_type": "code",
   "execution_count": 8,
   "metadata": {
    "ExecuteTime": {
     "end_time": "2019-10-18T16:01:05.019719Z",
     "start_time": "2019-10-18T16:00:43.465275Z"
    }
   },
   "outputs": [
    {
     "name": "stdout",
     "output_type": "stream",
     "text": [
      "에세이\n"
     ]
    }
   ],
   "source": [
    "chromedriver = './driver/chromedriver.exe'\n",
    "\n",
    "driver = webdriver.Chrome(chromedriver)\n",
    "\n",
    "user = input()\n",
    "\n",
    "driver.get('https://brunch.co.kr/')\n",
    "\n",
    "time.sleep(2)\n",
    "\n",
    "hidden_submenu = driver.find_element_by_css_selector('#btnServiceMenuSearch')\n",
    "\n",
    "actions = webdriver.ActionChains(driver)\n",
    "actions.click(hidden_submenu)\n",
    "\n",
    "actions.perform()\n",
    "\n",
    "time.sleep(2)\n",
    "\n",
    "user_search = driver.find_element_by_id(\"txt_search\")\n",
    "\n",
    "user_search.clear()\n",
    "user_search.send_keys(user )\n",
    "\n",
    "user_search.send_keys(Keys.RETURN)\n",
    "\n",
    "time.sleep(2)\n",
    "\n",
    "hidden_submenu1 = driver.find_element_by_css_selector('#resultArticle li:nth-child(1)') # 반복문 돌려야 할곳\n",
    "\n",
    "actions = webdriver.ActionChains(driver)\n",
    "actions.click(hidden_submenu1)\n",
    "\n",
    "actions.perform()\n",
    "\n",
    "#driver.get()\n",
    "brunchs = driver.find_elements_by_tag_name(\"h4\")\n",
    "\n",
    "for brunch in brunchs:\n",
    "    print(brunch.text)"
   ]
  },
  {
   "cell_type": "code",
   "execution_count": null,
   "metadata": {},
   "outputs": [],
   "source": []
  }
 ],
 "metadata": {
  "hide_input": false,
  "kernelspec": {
   "display_name": "Python 3",
   "language": "python",
   "name": "python3"
  },
  "language_info": {
   "codemirror_mode": {
    "name": "ipython",
    "version": 3
   },
   "file_extension": ".py",
   "mimetype": "text/x-python",
   "name": "python",
   "nbconvert_exporter": "python",
   "pygments_lexer": "ipython3",
   "version": "3.6.9"
  },
  "toc": {
   "base_numbering": 1,
   "nav_menu": {},
   "number_sections": true,
   "sideBar": true,
   "skip_h1_title": false,
   "title_cell": "Table of Contents",
   "title_sidebar": "Contents",
   "toc_cell": false,
   "toc_position": {},
   "toc_section_display": true,
   "toc_window_display": false
  },
  "varInspector": {
   "cols": {
    "lenName": 16,
    "lenType": 16,
    "lenVar": 40
   },
   "kernels_config": {
    "python": {
     "delete_cmd_postfix": "",
     "delete_cmd_prefix": "del ",
     "library": "var_list.py",
     "varRefreshCmd": "print(var_dic_list())"
    },
    "r": {
     "delete_cmd_postfix": ") ",
     "delete_cmd_prefix": "rm(",
     "library": "var_list.r",
     "varRefreshCmd": "cat(var_dic_list()) "
    }
   },
   "types_to_exclude": [
    "module",
    "function",
    "builtin_function_or_method",
    "instance",
    "_Feature"
   ],
   "window_display": false
  }
 },
 "nbformat": 4,
 "nbformat_minor": 2
}
