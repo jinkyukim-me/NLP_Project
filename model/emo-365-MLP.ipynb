{
 "cells": [
  {
   "cell_type": "code",
   "execution_count": 1,
   "metadata": {
    "ExecuteTime": {
     "end_time": "2019-11-07T04:00:53.787824Z",
     "start_time": "2019-11-07T04:00:47.174921Z"
    }
   },
   "outputs": [
    {
     "name": "stderr",
     "output_type": "stream",
     "text": [
      "Using TensorFlow backend.\n"
     ]
    }
   ],
   "source": [
    "import numpy as np\n",
    "from keras.models import Sequential\n",
    "from keras.layers import Dense, LSTM, Dropout\n",
    "from sklearn.preprocessing import MinMaxScaler\n",
    "import matplotlib.pyplot as plt\n",
    "%matplotlib inline"
   ]
  },
  {
   "cell_type": "code",
   "execution_count": 2,
   "metadata": {
    "ExecuteTime": {
     "end_time": "2019-11-07T04:00:53.797714Z",
     "start_time": "2019-11-07T04:00:53.790732Z"
    }
   },
   "outputs": [],
   "source": [
    "import random\n",
    "random.seed(100)\n",
    "emoData_365 = []\n",
    "for i in range(365):\n",
    "    y = (5/365)*i + random.random()\n",
    "    emoData_365.append(y)\n",
    "emoData_365 = np.array(emoData_365)[:,None]\n",
    "# print(bioData_365)\n",
    "# print(len(bioData_365))"
   ]
  },
  {
   "cell_type": "code",
   "execution_count": 3,
   "metadata": {
    "ExecuteTime": {
     "end_time": "2019-11-07T04:00:53.811755Z",
     "start_time": "2019-11-07T04:00:53.801804Z"
    },
    "scrolled": false
   },
   "outputs": [],
   "source": [
    "from sklearn.preprocessing import MinMaxScaler\n",
    "scaler = MinMaxScaler(feature_range=(1, 5))\n",
    "emoData_365 = scaler.fit_transform(emoData_365)\n",
    "#print(bioData_365)"
   ]
  },
  {
   "cell_type": "code",
   "execution_count": 4,
   "metadata": {
    "ExecuteTime": {
     "end_time": "2019-11-07T04:00:53.824720Z",
     "start_time": "2019-11-07T04:00:53.815754Z"
    }
   },
   "outputs": [],
   "source": [
    "look_back = 40\n",
    "train_marker = int(0.6*len(emoData_365))\n",
    "val_marker = int(0.8*len(emoData_365))"
   ]
  },
  {
   "cell_type": "code",
   "execution_count": 5,
   "metadata": {
    "ExecuteTime": {
     "end_time": "2019-11-07T04:00:54.050228Z",
     "start_time": "2019-11-07T04:00:53.827712Z"
    }
   },
   "outputs": [
    {
     "data": {
      "image/png": "[encoded data removed]",
      "text/plain": [
       "<Figure size 432x288 with 1 Axes>"
      ]
     },
     "metadata": {
      "needs_background": "light"
     },
     "output_type": "display_data"
    }
   ],
   "source": [
    "%matplotlib inline\n",
    "import matplotlib.pyplot as plt\n",
    "\n",
    "plt.clf()\n",
    "plt.title(\"Emotion Graphs in 365 days\")\n",
    "plt.xlabel(\"Date\")\n",
    "plt.ylabel(\"Emotion\")\n",
    "#plot_x = np.arange(200)\n",
    "plot_y = emoData_365\n",
    "plt.plot(plot_y, color=\"red\", label=\"True\")\n",
    "plt.legend(loc='best')\n",
    "plt.show()"
   ]
  },
  {
   "cell_type": "code",
   "execution_count": 6,
   "metadata": {
    "ExecuteTime": {
     "end_time": "2019-11-07T04:00:54.058195Z",
     "start_time": "2019-11-07T04:00:54.052193Z"
    }
   },
   "outputs": [],
   "source": [
    "def create_dataset(signal_data, look_back=1):\n",
    "    dataX, dataY = [], []\n",
    "    for i in range(len(signal_data)-look_back):\n",
    "        dataX.append(signal_data[i:(i+look_back), 0])\n",
    "        dataY.append(signal_data[i + look_back, 0])\n",
    "    return np.array(dataX), np.array(dataY)"
   ]
  },
  {
   "cell_type": "code",
   "execution_count": 7,
   "metadata": {
    "ExecuteTime": {
     "end_time": "2019-11-07T04:00:54.071172Z",
     "start_time": "2019-11-07T04:00:54.061169Z"
    }
   },
   "outputs": [],
   "source": [
    "train = emoData_365[:train_marker]\n",
    "val = emoData_365[train_marker:val_marker]\n",
    "test = emoData_365[val_marker:]\n",
    "\n",
    "x_train, y_train = create_dataset(train, look_back)\n",
    "x_val, y_val = create_dataset(val, look_back)\n",
    "x_test, y_test = create_dataset(test, look_back)"
   ]
  },
  {
   "cell_type": "code",
   "execution_count": 8,
   "metadata": {
    "ExecuteTime": {
     "end_time": "2019-11-07T04:00:54.084121Z",
     "start_time": "2019-11-07T04:00:54.076131Z"
    }
   },
   "outputs": [],
   "source": [
    "x_train = np.reshape(x_train, (x_train.shape[0], x_train.shape[1], 1))\n",
    "x_val = np.reshape(x_val, (x_val.shape[0], x_val.shape[1], 1))\n",
    "x_test = np.reshape(x_test, (x_test.shape[0], x_test.shape[1], 1))\n",
    "\n",
    "x_train = np.squeeze(x_train)\n",
    "x_val = np.squeeze(x_val)\n",
    "x_test = np.squeeze(x_test)"
   ]
  },
  {
   "cell_type": "code",
   "execution_count": 9,
   "metadata": {
    "ExecuteTime": {
     "end_time": "2019-11-07T04:00:54.177513Z",
     "start_time": "2019-11-07T04:00:54.086102Z"
    }
   },
   "outputs": [],
   "source": [
    "model = Sequential()\n",
    "model.add(Dense(32,input_dim=40,activation=\"relu\"))\n",
    "model.add(Dropout(0.3))\n",
    "for i in range(2):\n",
    "    model.add(Dense(32,activation=\"relu\"))\n",
    "    model.add(Dropout(0.3))\n",
    "model.add(Dense(1))"
   ]
  },
  {
   "cell_type": "code",
   "execution_count": 10,
   "metadata": {
    "ExecuteTime": {
     "end_time": "2019-11-07T04:00:54.202427Z",
     "start_time": "2019-11-07T04:00:54.180360Z"
    }
   },
   "outputs": [],
   "source": [
    "model.compile(loss='mean_squared_error', optimizer='adagrad')"
   ]
  },
  {
   "cell_type": "code",
   "execution_count": 11,
   "metadata": {
    "ExecuteTime": {
     "end_time": "2019-11-07T04:00:57.819358Z",
     "start_time": "2019-11-07T04:00:54.205297Z"
    }
   },
   "outputs": [
    {
     "name": "stdout",
     "output_type": "stream",
     "text": [
      "Train on 179 samples, validate on 33 samples\n",
      "Epoch 1/200\n",
      "179/179 [==============================] - 0s 2ms/step - loss: 3.8455 - val_loss: 1.7802\n",
      "Epoch 2/200\n",
      "179/179 [==============================] - 0s 78us/step - loss: 1.5383 - val_loss: 1.8242\n",
      "Epoch 3/200\n",
      "179/179 [==============================] - 0s 72us/step - loss: 1.1409 - val_loss: 0.7978\n",
      "Epoch 4/200\n",
      "179/179 [==============================] - 0s 84us/step - loss: 1.2609 - val_loss: 1.2427\n",
      "Epoch 5/200\n",
      "179/179 [==============================] - 0s 89us/step - loss: 1.0055 - val_loss: 2.3616\n",
      "Epoch 6/200\n",
      "179/179 [==============================] - 0s 95us/step - loss: 0.8129 - val_loss: 1.9207\n",
      "Epoch 7/200\n",
      "179/179 [==============================] - 0s 84us/step - loss: 0.8053 - val_loss: 1.7580\n",
      "Epoch 8/200\n",
      "179/179 [==============================] - 0s 95us/step - loss: 0.7129 - val_loss: 2.0518\n",
      "Epoch 9/200\n",
      "179/179 [==============================] - 0s 84us/step - loss: 0.6848 - val_loss: 2.0716\n",
      "Epoch 10/200\n",
      "179/179 [==============================] - 0s 89us/step - loss: 0.7582 - val_loss: 2.0802\n",
      "Epoch 11/200\n",
      "179/179 [==============================] - 0s 89us/step - loss: 0.6030 - val_loss: 1.4948\n",
      "Epoch 12/200\n",
      "179/179 [==============================] - 0s 84us/step - loss: 0.5467 - val_loss: 1.2386\n",
      "Epoch 13/200\n",
      "179/179 [==============================] - 0s 86us/step - loss: 0.5831 - val_loss: 1.9501\n",
      "Epoch 14/200\n",
      "179/179 [==============================] - 0s 100us/step - loss: 0.6458 - val_loss: 1.8222\n",
      "Epoch 15/200\n",
      "179/179 [==============================] - 0s 72us/step - loss: 0.6305 - val_loss: 1.9641\n",
      "Epoch 16/200\n",
      "179/179 [==============================] - 0s 89us/step - loss: 0.6363 - val_loss: 2.2876\n",
      "Epoch 17/200\n",
      "179/179 [==============================] - 0s 84us/step - loss: 0.5157 - val_loss: 2.0691\n",
      "Epoch 18/200\n",
      "179/179 [==============================] - 0s 84us/step - loss: 0.5174 - val_loss: 1.8418\n",
      "Epoch 19/200\n",
      "179/179 [==============================] - 0s 84us/step - loss: 0.6041 - val_loss: 1.8008\n",
      "Epoch 20/200\n",
      "179/179 [==============================] - 0s 89us/step - loss: 0.5212 - val_loss: 2.0372\n",
      "Epoch 21/200\n",
      "179/179 [==============================] - 0s 84us/step - loss: 0.5107 - val_loss: 1.8934\n",
      "Epoch 22/200\n",
      "179/179 [==============================] - 0s 78us/step - loss: 0.4868 - val_loss: 2.1571\n",
      "Epoch 23/200\n",
      "179/179 [==============================] - 0s 89us/step - loss: 0.5921 - val_loss: 2.3628\n",
      "Epoch 24/200\n",
      "179/179 [==============================] - 0s 78us/step - loss: 0.6506 - val_loss: 2.5712\n",
      "Epoch 25/200\n",
      "179/179 [==============================] - 0s 83us/step - loss: 0.5288 - val_loss: 2.4622\n",
      "Epoch 26/200\n",
      "179/179 [==============================] - 0s 95us/step - loss: 0.5499 - val_loss: 2.1789\n",
      "Epoch 27/200\n",
      "179/179 [==============================] - 0s 78us/step - loss: 0.5071 - val_loss: 1.9992\n",
      "Epoch 28/200\n",
      "179/179 [==============================] - 0s 78us/step - loss: 0.5337 - val_loss: 2.3517\n",
      "Epoch 29/200\n",
      "179/179 [==============================] - 0s 84us/step - loss: 0.5120 - val_loss: 2.1523\n",
      "Epoch 30/200\n",
      "179/179 [==============================] - 0s 78us/step - loss: 0.5070 - val_loss: 2.8883\n",
      "Epoch 31/200\n",
      "179/179 [==============================] - 0s 78us/step - loss: 0.4442 - val_loss: 2.2037\n",
      "Epoch 32/200\n",
      "179/179 [==============================] - 0s 95us/step - loss: 0.5095 - val_loss: 1.9976\n",
      "Epoch 33/200\n",
      "179/179 [==============================] - 0s 95us/step - loss: 0.5085 - val_loss: 1.7602\n",
      "Epoch 34/200\n",
      "179/179 [==============================] - 0s 111us/step - loss: 0.3711 - val_loss: 2.2220\n",
      "Epoch 35/200\n",
      "179/179 [==============================] - 0s 89us/step - loss: 0.4685 - val_loss: 1.8572\n",
      "Epoch 36/200\n",
      "179/179 [==============================] - 0s 89us/step - loss: 0.4695 - val_loss: 2.2172\n",
      "Epoch 37/200\n",
      "179/179 [==============================] - 0s 84us/step - loss: 0.5175 - val_loss: 2.1113\n",
      "Epoch 38/200\n",
      "179/179 [==============================] - 0s 72us/step - loss: 0.5377 - val_loss: 2.1057\n",
      "Epoch 39/200\n",
      "179/179 [==============================] - 0s 98us/step - loss: 0.4241 - val_loss: 2.3913\n",
      "Epoch 40/200\n",
      "179/179 [==============================] - 0s 84us/step - loss: 0.5331 - val_loss: 2.0098\n",
      "Epoch 41/200\n",
      "179/179 [==============================] - 0s 79us/step - loss: 0.5257 - val_loss: 2.3656\n",
      "Epoch 42/200\n",
      "179/179 [==============================] - 0s 84us/step - loss: 0.3773 - val_loss: 1.8966\n",
      "Epoch 43/200\n",
      "179/179 [==============================] - 0s 89us/step - loss: 0.5047 - val_loss: 2.1785\n",
      "Epoch 44/200\n",
      "179/179 [==============================] - 0s 84us/step - loss: 0.4871 - val_loss: 2.0911\n",
      "Epoch 45/200\n",
      "179/179 [==============================] - 0s 78us/step - loss: 0.4112 - val_loss: 2.1071\n",
      "Epoch 46/200\n",
      "179/179 [==============================] - 0s 84us/step - loss: 0.3835 - val_loss: 1.8223\n",
      "Epoch 47/200\n",
      "179/179 [==============================] - 0s 84us/step - loss: 0.4680 - val_loss: 2.2839\n",
      "Epoch 48/200\n",
      "179/179 [==============================] - 0s 84us/step - loss: 0.4316 - val_loss: 1.9190\n",
      "Epoch 49/200\n",
      "179/179 [==============================] - 0s 78us/step - loss: 0.5022 - val_loss: 2.6922\n",
      "Epoch 50/200\n",
      "179/179 [==============================] - 0s 89us/step - loss: 0.3641 - val_loss: 2.2481\n",
      "Epoch 51/200\n",
      "179/179 [==============================] - 0s 84us/step - loss: 0.4085 - val_loss: 2.2912\n",
      "Epoch 52/200\n",
      "179/179 [==============================] - 0s 84us/step - loss: 0.3776 - val_loss: 2.2422\n",
      "Epoch 53/200\n",
      "179/179 [==============================] - 0s 95us/step - loss: 0.4103 - val_loss: 2.0790\n",
      "Epoch 54/200\n",
      "179/179 [==============================] - 0s 78us/step - loss: 0.4452 - val_loss: 1.9402\n",
      "Epoch 55/200\n",
      "179/179 [==============================] - 0s 84us/step - loss: 0.4252 - val_loss: 1.8725\n",
      "Epoch 56/200\n",
      "179/179 [==============================] - 0s 84us/step - loss: 0.4302 - val_loss: 2.4865\n",
      "Epoch 57/200\n",
      "179/179 [==============================] - 0s 79us/step - loss: 0.4680 - val_loss: 2.0939\n",
      "Epoch 58/200\n",
      "179/179 [==============================] - 0s 78us/step - loss: 0.4563 - val_loss: 2.1261\n",
      "Epoch 59/200\n",
      "179/179 [==============================] - 0s 72us/step - loss: 0.4290 - val_loss: 2.1556\n",
      "Epoch 60/200\n",
      "179/179 [==============================] - 0s 67us/step - loss: 0.4262 - val_loss: 2.2071\n",
      "Epoch 61/200\n",
      "179/179 [==============================] - 0s 67us/step - loss: 0.4181 - val_loss: 1.9932\n",
      "Epoch 62/200\n",
      "179/179 [==============================] - 0s 78us/step - loss: 0.4701 - val_loss: 2.4302\n",
      "Epoch 63/200\n",
      "179/179 [==============================] - 0s 67us/step - loss: 0.4500 - val_loss: 2.2035\n",
      "Epoch 64/200\n",
      "179/179 [==============================] - 0s 67us/step - loss: 0.4292 - val_loss: 2.2254\n",
      "Epoch 65/200\n",
      "179/179 [==============================] - 0s 72us/step - loss: 0.4063 - val_loss: 2.4536\n",
      "Epoch 66/200\n",
      "179/179 [==============================] - 0s 67us/step - loss: 0.4606 - val_loss: 2.1220\n",
      "Epoch 67/200\n",
      "179/179 [==============================] - 0s 67us/step - loss: 0.4349 - val_loss: 2.4322\n",
      "Epoch 68/200\n",
      "179/179 [==============================] - 0s 72us/step - loss: 0.3821 - val_loss: 2.2674\n",
      "Epoch 69/200\n",
      "179/179 [==============================] - 0s 67us/step - loss: 0.4064 - val_loss: 2.0833\n",
      "Epoch 70/200\n",
      "179/179 [==============================] - 0s 78us/step - loss: 0.4025 - val_loss: 2.0795\n",
      "Epoch 71/200\n",
      "179/179 [==============================] - 0s 67us/step - loss: 0.4684 - val_loss: 1.4367\n",
      "Epoch 72/200\n",
      "179/179 [==============================] - 0s 78us/step - loss: 0.4682 - val_loss: 2.0765\n",
      "Epoch 73/200\n",
      "179/179 [==============================] - 0s 67us/step - loss: 0.5100 - val_loss: 2.0757\n",
      "Epoch 74/200\n",
      "179/179 [==============================] - 0s 72us/step - loss: 0.4448 - val_loss: 2.1252\n",
      "Epoch 75/200\n",
      "179/179 [==============================] - 0s 72us/step - loss: 0.4403 - val_loss: 2.4949\n",
      "Epoch 76/200\n",
      "179/179 [==============================] - 0s 89us/step - loss: 0.3893 - val_loss: 2.1026\n",
      "Epoch 77/200\n",
      "179/179 [==============================] - 0s 95us/step - loss: 0.5066 - val_loss: 1.8165\n",
      "Epoch 78/200\n",
      "179/179 [==============================] - 0s 99us/step - loss: 0.3934 - val_loss: 1.8811\n",
      "Epoch 79/200\n",
      "179/179 [==============================] - 0s 95us/step - loss: 0.4435 - val_loss: 1.8163\n",
      "Epoch 80/200\n"
     ]
    },
    {
     "name": "stdout",
     "output_type": "stream",
     "text": [
      "179/179 [==============================] - 0s 100us/step - loss: 0.3798 - val_loss: 1.7949\n",
      "Epoch 81/200\n",
      "179/179 [==============================] - 0s 78us/step - loss: 0.4261 - val_loss: 2.2214\n",
      "Epoch 82/200\n",
      "179/179 [==============================] - 0s 89us/step - loss: 0.4189 - val_loss: 2.0485\n",
      "Epoch 83/200\n",
      "179/179 [==============================] - 0s 72us/step - loss: 0.4117 - val_loss: 2.0789\n",
      "Epoch 84/200\n",
      "179/179 [==============================] - 0s 83us/step - loss: 0.3958 - val_loss: 2.2288\n",
      "Epoch 85/200\n",
      "179/179 [==============================] - 0s 72us/step - loss: 0.3678 - val_loss: 2.1951\n",
      "Epoch 86/200\n",
      "179/179 [==============================] - 0s 78us/step - loss: 0.3920 - val_loss: 2.3646\n",
      "Epoch 87/200\n",
      "179/179 [==============================] - 0s 73us/step - loss: 0.3680 - val_loss: 1.9474\n",
      "Epoch 88/200\n",
      "179/179 [==============================] - 0s 67us/step - loss: 0.4178 - val_loss: 2.3206\n",
      "Epoch 89/200\n",
      "179/179 [==============================] - 0s 67us/step - loss: 0.3578 - val_loss: 1.9994\n",
      "Epoch 90/200\n",
      "179/179 [==============================] - 0s 72us/step - loss: 0.4173 - val_loss: 1.9997\n",
      "Epoch 91/200\n",
      "179/179 [==============================] - 0s 72us/step - loss: 0.4234 - val_loss: 1.9451\n",
      "Epoch 92/200\n",
      "179/179 [==============================] - ETA: 0s - loss: 0.382 - 0s 72us/step - loss: 0.3664 - val_loss: 1.8474\n",
      "Epoch 93/200\n",
      "179/179 [==============================] - 0s 61us/step - loss: 0.3648 - val_loss: 1.6756\n",
      "Epoch 94/200\n",
      "179/179 [==============================] - 0s 61us/step - loss: 0.3513 - val_loss: 1.7805\n",
      "Epoch 95/200\n",
      "179/179 [==============================] - 0s 67us/step - loss: 0.4710 - val_loss: 1.7853\n",
      "Epoch 96/200\n",
      "179/179 [==============================] - 0s 89us/step - loss: 0.4933 - val_loss: 1.6920\n",
      "Epoch 97/200\n",
      "179/179 [==============================] - 0s 84us/step - loss: 0.4868 - val_loss: 1.8395\n",
      "Epoch 98/200\n",
      "179/179 [==============================] - 0s 84us/step - loss: 0.3748 - val_loss: 1.9230\n",
      "Epoch 99/200\n",
      "179/179 [==============================] - 0s 72us/step - loss: 0.4423 - val_loss: 2.0561\n",
      "Epoch 100/200\n",
      "179/179 [==============================] - 0s 72us/step - loss: 0.3195 - val_loss: 2.0039\n",
      "Epoch 101/200\n",
      "179/179 [==============================] - 0s 72us/step - loss: 0.3625 - val_loss: 1.9485\n",
      "Epoch 102/200\n",
      "179/179 [==============================] - 0s 64us/step - loss: 0.3585 - val_loss: 1.8756\n",
      "Epoch 103/200\n",
      "179/179 [==============================] - 0s 56us/step - loss: 0.3871 - val_loss: 2.0345\n",
      "Epoch 104/200\n",
      "179/179 [==============================] - 0s 72us/step - loss: 0.3415 - val_loss: 1.9061\n",
      "Epoch 105/200\n",
      "179/179 [==============================] - 0s 67us/step - loss: 0.3743 - val_loss: 2.0015\n",
      "Epoch 106/200\n",
      "179/179 [==============================] - 0s 67us/step - loss: 0.3807 - val_loss: 2.0929\n",
      "Epoch 107/200\n",
      "179/179 [==============================] - 0s 72us/step - loss: 0.3746 - val_loss: 2.0208\n",
      "Epoch 108/200\n",
      "179/179 [==============================] - 0s 78us/step - loss: 0.3975 - val_loss: 1.8089\n",
      "Epoch 109/200\n",
      "179/179 [==============================] - 0s 61us/step - loss: 0.3920 - val_loss: 2.1652\n",
      "Epoch 110/200\n",
      "179/179 [==============================] - 0s 67us/step - loss: 0.4068 - val_loss: 1.8490\n",
      "Epoch 111/200\n",
      "179/179 [==============================] - 0s 78us/step - loss: 0.3316 - val_loss: 2.0184\n",
      "Epoch 112/200\n",
      "179/179 [==============================] - 0s 78us/step - loss: 0.3688 - val_loss: 1.9528\n",
      "Epoch 113/200\n",
      "179/179 [==============================] - 0s 72us/step - loss: 0.4688 - val_loss: 2.0163\n",
      "Epoch 114/200\n",
      "179/179 [==============================] - 0s 72us/step - loss: 0.3964 - val_loss: 1.8630\n",
      "Epoch 115/200\n",
      "179/179 [==============================] - 0s 72us/step - loss: 0.3811 - val_loss: 1.6440\n",
      "Epoch 116/200\n",
      "179/179 [==============================] - 0s 67us/step - loss: 0.3836 - val_loss: 1.8991\n",
      "Epoch 117/200\n",
      "179/179 [==============================] - 0s 67us/step - loss: 0.3970 - val_loss: 1.9701\n",
      "Epoch 118/200\n",
      "179/179 [==============================] - 0s 72us/step - loss: 0.2971 - val_loss: 1.9734\n",
      "Epoch 119/200\n",
      "179/179 [==============================] - 0s 72us/step - loss: 0.3516 - val_loss: 1.7655\n",
      "Epoch 120/200\n",
      "179/179 [==============================] - 0s 61us/step - loss: 0.3416 - val_loss: 1.8934\n",
      "Epoch 121/200\n",
      "179/179 [==============================] - 0s 72us/step - loss: 0.3750 - val_loss: 1.9774\n",
      "Epoch 122/200\n",
      "179/179 [==============================] - 0s 72us/step - loss: 0.3523 - val_loss: 1.8538\n",
      "Epoch 123/200\n",
      "179/179 [==============================] - 0s 78us/step - loss: 0.3617 - val_loss: 2.0453\n",
      "Epoch 124/200\n",
      "179/179 [==============================] - 0s 72us/step - loss: 0.3540 - val_loss: 1.9128\n",
      "Epoch 125/200\n",
      "179/179 [==============================] - 0s 72us/step - loss: 0.3205 - val_loss: 1.9670\n",
      "Epoch 126/200\n",
      "179/179 [==============================] - 0s 78us/step - loss: 0.3783 - val_loss: 1.8414\n",
      "Epoch 127/200\n",
      "179/179 [==============================] - 0s 78us/step - loss: 0.3563 - val_loss: 1.7339\n",
      "Epoch 128/200\n",
      "179/179 [==============================] - 0s 72us/step - loss: 0.3386 - val_loss: 1.9905\n",
      "Epoch 129/200\n",
      "179/179 [==============================] - 0s 67us/step - loss: 0.4138 - val_loss: 1.7136\n",
      "Epoch 130/200\n",
      "179/179 [==============================] - 0s 78us/step - loss: 0.3873 - val_loss: 1.8979\n",
      "Epoch 131/200\n",
      "179/179 [==============================] - 0s 84us/step - loss: 0.4046 - val_loss: 1.6820\n",
      "Epoch 132/200\n",
      "179/179 [==============================] - 0s 78us/step - loss: 0.3389 - val_loss: 1.8344\n",
      "Epoch 133/200\n",
      "179/179 [==============================] - 0s 72us/step - loss: 0.3340 - val_loss: 1.9450\n",
      "Epoch 134/200\n",
      "179/179 [==============================] - 0s 67us/step - loss: 0.3312 - val_loss: 2.1239\n",
      "Epoch 135/200\n",
      "179/179 [==============================] - 0s 67us/step - loss: 0.3242 - val_loss: 1.9450\n",
      "Epoch 136/200\n",
      "179/179 [==============================] - 0s 67us/step - loss: 0.3353 - val_loss: 2.2447\n",
      "Epoch 137/200\n",
      "179/179 [==============================] - 0s 67us/step - loss: 0.3426 - val_loss: 1.9172\n",
      "Epoch 138/200\n",
      "179/179 [==============================] - 0s 67us/step - loss: 0.3342 - val_loss: 2.1815\n",
      "Epoch 139/200\n",
      "179/179 [==============================] - 0s 67us/step - loss: 0.3283 - val_loss: 1.8879\n",
      "Epoch 140/200\n",
      "179/179 [==============================] - 0s 67us/step - loss: 0.4234 - val_loss: 1.9487\n",
      "Epoch 141/200\n",
      "179/179 [==============================] - 0s 61us/step - loss: 0.4180 - val_loss: 1.7764\n",
      "Epoch 142/200\n",
      "179/179 [==============================] - 0s 61us/step - loss: 0.3301 - val_loss: 1.8884\n",
      "Epoch 143/200\n",
      "179/179 [==============================] - 0s 67us/step - loss: 0.3173 - val_loss: 1.7716\n",
      "Epoch 144/200\n",
      "179/179 [==============================] - 0s 72us/step - loss: 0.3405 - val_loss: 1.8847\n",
      "Epoch 145/200\n",
      "179/179 [==============================] - 0s 67us/step - loss: 0.3920 - val_loss: 1.9787\n",
      "Epoch 146/200\n",
      "179/179 [==============================] - 0s 72us/step - loss: 0.2972 - val_loss: 1.7944\n",
      "Epoch 147/200\n",
      "179/179 [==============================] - 0s 72us/step - loss: 0.3024 - val_loss: 1.9578\n",
      "Epoch 148/200\n",
      "179/179 [==============================] - 0s 67us/step - loss: 0.3188 - val_loss: 2.0878\n",
      "Epoch 149/200\n",
      "179/179 [==============================] - 0s 78us/step - loss: 0.3828 - val_loss: 2.0022\n",
      "Epoch 150/200\n",
      "179/179 [==============================] - 0s 78us/step - loss: 0.3667 - val_loss: 2.0653\n",
      "Epoch 151/200\n",
      "179/179 [==============================] - 0s 84us/step - loss: 0.3888 - val_loss: 1.7990\n",
      "Epoch 152/200\n",
      "179/179 [==============================] - 0s 78us/step - loss: 0.3762 - val_loss: 2.0359\n",
      "Epoch 153/200\n",
      "179/179 [==============================] - 0s 67us/step - loss: 0.3633 - val_loss: 1.8588\n",
      "Epoch 154/200\n",
      "179/179 [==============================] - 0s 67us/step - loss: 0.3943 - val_loss: 1.8666\n",
      "Epoch 155/200\n",
      "179/179 [==============================] - 0s 67us/step - loss: 0.3629 - val_loss: 1.8662\n",
      "Epoch 156/200\n",
      "179/179 [==============================] - 0s 78us/step - loss: 0.3319 - val_loss: 1.9769\n",
      "Epoch 157/200\n",
      "179/179 [==============================] - 0s 72us/step - loss: 0.3629 - val_loss: 1.7307\n",
      "Epoch 158/200\n",
      "179/179 [==============================] - 0s 72us/step - loss: 0.3486 - val_loss: 1.8847\n"
     ]
    },
    {
     "name": "stdout",
     "output_type": "stream",
     "text": [
      "Epoch 159/200\n",
      "179/179 [==============================] - 0s 72us/step - loss: 0.3258 - val_loss: 1.8122\n",
      "Epoch 160/200\n",
      "179/179 [==============================] - 0s 67us/step - loss: 0.4332 - val_loss: 1.7338\n",
      "Epoch 161/200\n",
      "179/179 [==============================] - 0s 72us/step - loss: 0.3592 - val_loss: 1.9108\n",
      "Epoch 162/200\n",
      "179/179 [==============================] - 0s 72us/step - loss: 0.3751 - val_loss: 2.1276\n",
      "Epoch 163/200\n",
      "179/179 [==============================] - 0s 61us/step - loss: 0.3439 - val_loss: 1.9855\n",
      "Epoch 164/200\n",
      "179/179 [==============================] - 0s 67us/step - loss: 0.4045 - val_loss: 2.1145\n",
      "Epoch 165/200\n",
      "179/179 [==============================] - 0s 72us/step - loss: 0.3818 - val_loss: 1.9958\n",
      "Epoch 166/200\n",
      "179/179 [==============================] - 0s 72us/step - loss: 0.3118 - val_loss: 1.9349\n",
      "Epoch 167/200\n",
      "179/179 [==============================] - 0s 89us/step - loss: 0.3220 - val_loss: 1.9993\n",
      "Epoch 168/200\n",
      "179/179 [==============================] - 0s 72us/step - loss: 0.3025 - val_loss: 1.6705\n",
      "Epoch 169/200\n",
      "179/179 [==============================] - 0s 72us/step - loss: 0.3286 - val_loss: 1.9783\n",
      "Epoch 170/200\n",
      "179/179 [==============================] - 0s 72us/step - loss: 0.4048 - val_loss: 1.7639\n",
      "Epoch 171/200\n",
      "179/179 [==============================] - 0s 67us/step - loss: 0.3462 - val_loss: 1.9757\n",
      "Epoch 172/200\n",
      "179/179 [==============================] - 0s 61us/step - loss: 0.3333 - val_loss: 1.8785\n",
      "Epoch 173/200\n",
      "179/179 [==============================] - 0s 72us/step - loss: 0.3317 - val_loss: 1.8732\n",
      "Epoch 174/200\n",
      "179/179 [==============================] - 0s 84us/step - loss: 0.3445 - val_loss: 1.8354\n",
      "Epoch 175/200\n",
      "179/179 [==============================] - 0s 78us/step - loss: 0.4114 - val_loss: 1.7880\n",
      "Epoch 176/200\n",
      "179/179 [==============================] - 0s 72us/step - loss: 0.3919 - val_loss: 1.7978\n",
      "Epoch 177/200\n",
      "179/179 [==============================] - 0s 67us/step - loss: 0.3634 - val_loss: 1.7715\n",
      "Epoch 178/200\n",
      "179/179 [==============================] - 0s 67us/step - loss: 0.3595 - val_loss: 1.9654\n",
      "Epoch 179/200\n",
      "179/179 [==============================] - 0s 67us/step - loss: 0.3394 - val_loss: 1.8528\n",
      "Epoch 180/200\n",
      "179/179 [==============================] - 0s 61us/step - loss: 0.3581 - val_loss: 1.7863\n",
      "Epoch 181/200\n",
      "179/179 [==============================] - 0s 61us/step - loss: 0.3080 - val_loss: 1.7401\n",
      "Epoch 182/200\n",
      "179/179 [==============================] - 0s 65us/step - loss: 0.3561 - val_loss: 1.6677\n",
      "Epoch 183/200\n",
      "179/179 [==============================] - 0s 72us/step - loss: 0.3018 - val_loss: 2.0283\n",
      "Epoch 184/200\n",
      "179/179 [==============================] - 0s 67us/step - loss: 0.3888 - val_loss: 1.8563\n",
      "Epoch 185/200\n",
      "179/179 [==============================] - 0s 67us/step - loss: 0.3905 - val_loss: 1.9078\n",
      "Epoch 186/200\n",
      "179/179 [==============================] - 0s 67us/step - loss: 0.4002 - val_loss: 1.8389\n",
      "Epoch 187/200\n",
      "179/179 [==============================] - 0s 72us/step - loss: 0.3548 - val_loss: 1.9180\n",
      "Epoch 188/200\n",
      "179/179 [==============================] - 0s 72us/step - loss: 0.3699 - val_loss: 1.9244\n",
      "Epoch 189/200\n",
      "179/179 [==============================] - 0s 72us/step - loss: 0.3499 - val_loss: 1.7247\n",
      "Epoch 190/200\n",
      "179/179 [==============================] - 0s 84us/step - loss: 0.3032 - val_loss: 1.6899\n",
      "Epoch 191/200\n",
      "179/179 [==============================] - 0s 72us/step - loss: 0.3722 - val_loss: 1.7785\n",
      "Epoch 192/200\n",
      "179/179 [==============================] - 0s 78us/step - loss: 0.3030 - val_loss: 1.6674\n",
      "Epoch 193/200\n",
      "179/179 [==============================] - 0s 84us/step - loss: 0.3725 - val_loss: 1.8216\n",
      "Epoch 194/200\n",
      "179/179 [==============================] - 0s 78us/step - loss: 0.3340 - val_loss: 1.7988\n",
      "Epoch 195/200\n",
      "179/179 [==============================] - 0s 75us/step - loss: 0.2988 - val_loss: 1.9528\n",
      "Epoch 196/200\n",
      "179/179 [==============================] - 0s 73us/step - loss: 0.3291 - val_loss: 1.8509\n",
      "Epoch 197/200\n",
      "179/179 [==============================] - 0s 78us/step - loss: 0.3229 - val_loss: 1.7775\n",
      "Epoch 198/200\n",
      "179/179 [==============================] - 0s 67us/step - loss: 0.3478 - val_loss: 1.8291\n",
      "Epoch 199/200\n",
      "179/179 [==============================] - 0s 70us/step - loss: 0.3345 - val_loss: 1.8534\n",
      "Epoch 200/200\n",
      "179/179 [==============================] - 0s 67us/step - loss: 0.2712 - val_loss: 1.7515\n"
     ]
    }
   ],
   "source": [
    "hist = model.fit(x_train, y_train, epochs=200, batch_size=32, validation_data=(x_val, y_val))"
   ]
  },
  {
   "cell_type": "code",
   "execution_count": 12,
   "metadata": {
    "ExecuteTime": {
     "end_time": "2019-11-07T04:00:58.004370Z",
     "start_time": "2019-11-07T04:00:57.821345Z"
    }
   },
   "outputs": [
    {
     "data": {
      "image/png": "[encoded data removed]",
      "text/plain": [
       "<Figure size 432x288 with 1 Axes>"
      ]
     },
     "metadata": {
      "needs_background": "light"
     },
     "output_type": "display_data"
    }
   ],
   "source": [
    "plt.clf()\n",
    "plt.plot(hist.history['loss'])\n",
    "plt.plot(hist.history['val_loss'])\n",
    "plt.ylim(0.0, 5.0)\n",
    "plt.ylabel('Loss')\n",
    "plt.xlabel('Epoch')\n",
    "plt.legend(['train', 'val'], loc='upper left')\n",
    "plt.show()"
   ]
  },
  {
   "cell_type": "code",
   "execution_count": 13,
   "metadata": {
    "ExecuteTime": {
     "end_time": "2019-11-07T04:00:58.025320Z",
     "start_time": "2019-11-07T04:00:58.007369Z"
    }
   },
   "outputs": [
    {
     "name": "stdout",
     "output_type": "stream",
     "text": [
      "Train Score:  0.4153186529042335\n",
      "Validataion Score:  1.7515074159159805\n",
      "Test Score:  3.1880197669520522\n"
     ]
    }
   ],
   "source": [
    "trainScore = model.evaluate(x_train, y_train, verbose=0)\n",
    "print('Train Score: ', trainScore)\n",
    "valScore = model.evaluate(x_val, y_val, verbose=0)\n",
    "print('Validataion Score: ', valScore)\n",
    "testScore = model.evaluate(x_test, y_test, verbose=0)\n",
    "print('Test Score: ', testScore)"
   ]
  },
  {
   "cell_type": "code",
   "execution_count": 14,
   "metadata": {
    "ExecuteTime": {
     "end_time": "2019-11-07T04:00:58.089793Z",
     "start_time": "2019-11-07T04:00:58.028306Z"
    }
   },
   "outputs": [],
   "source": [
    "look_ahead = 30\n",
    "xhat = x_test[0, None]\n",
    "predictions = np.zeros((look_ahead,1))\n",
    "for i in range(look_ahead):\n",
    "    prediction = model.predict(xhat, batch_size=32)\n",
    "    predictions[i] = prediction\n",
    "    xhat = np.hstack([xhat[:,1:],prediction])"
   ]
  },
  {
   "cell_type": "code",
   "execution_count": 15,
   "metadata": {
    "ExecuteTime": {
     "end_time": "2019-11-07T04:00:58.306820Z",
     "start_time": "2019-11-07T04:00:58.093146Z"
    }
   },
   "outputs": [
    {
     "data": {
      "image/png": "[encoded data removed]",
      "text/plain": [
       "<Figure size 1080x360 with 1 Axes>"
      ]
     },
     "metadata": {
      "needs_background": "light"
     },
     "output_type": "display_data"
    }
   ],
   "source": [
    "plt.figure(figsize=(15,5))\n",
    "plt.plot(np.arange(look_ahead), predictions, 'r' ,label=\"prediction\")\n",
    "plt.plot(np.arange(look_ahead), y_test[:look_ahead], label=\"test function\")\n",
    "plt.legend()\n",
    "plt.show()"
   ]
  },
  {
   "cell_type": "code",
   "execution_count": null,
   "metadata": {},
   "outputs": [],
   "source": []
  }
 ],
 "metadata": {
  "hide_input": false,
  "kernelspec": {
   "display_name": "Python 3",
   "language": "python",
   "name": "python3"
  },
  "language_info": {
   "codemirror_mode": {
    "name": "ipython",
    "version": 3
   },
   "file_extension": ".py",
   "mimetype": "text/x-python",
   "name": "python",
   "nbconvert_exporter": "python",
   "pygments_lexer": "ipython3",
   "version": "3.6.9"
  }
 },
 "nbformat": 4,
 "nbformat_minor": 2
}
